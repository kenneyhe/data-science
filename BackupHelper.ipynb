{
 "cells": [
  {
   "cell_type": "markdown",
   "metadata": {},
   "source": [
    "# Backup Helper\n"
   ]
  },
  {
   "cell_type": "code",
   "execution_count": 5,
   "metadata": {
    "tags": [
     "parameters"
    ]
   },
   "outputs": [],
   "source": [
    "PASS=\"GIT_CRYPT\"\n",
    "USER=\"GIT_CRYPT\"\n",
    "DIR=\"BackupVideo\"\n",
    "\n",
    "#feature flags for full backup (readonly) or incremental, DEBUG\n",
    "DEBUG=False\n",
    "FULL=False\n",
    "BUILDKIT=True\n",
    "# generate Dockerfile from one flat directory\n",
    "GEN=False"
   ]
  },
  {
   "cell_type": "code",
   "execution_count": 7,
   "metadata": {},
   "outputs": [],
   "source": [
    "import os\n",
    "from hashlib import sha256\n",
    "if DEBUG:\n",
    "    print(\"USER\", \":\", USER, \", PASS\", \":\",\n",
    "          sha256(PASS.encode('utf-8')).hexdigest())"
   ]
  },
  {
   "cell_type": "code",
   "execution_count": 17,
   "metadata": {},
   "outputs": [],
   "source": [
    "if GEN:\n",
    "    os.system('''\n",
    "        cd {dir} && echo \"FROM scratch\" > Dockerfile &&\n",
    "        for i in `ls -f *.*`;\n",
    "          do \n",
    "            echo \"ADD \\'$i\\' /backup\" >> Dockerfile; \n",
    "          done  \n",
    "        '''.format(dir=DIR))"
   ]
  },
  {
   "cell_type": "markdown",
   "metadata": {},
   "source": [
    "## below can fail as default password is alway with invalid token"
   ]
  },
  {
   "cell_type": "code",
   "execution_count": 9,
   "metadata": {},
   "outputs": [
    {
     "name": "stdout",
     "output_type": "stream",
     "text": [
      "Requirement already satisfied: docker in /usr/local/lib/python3.8/site-packages (4.4.1)\n",
      "Requirement already satisfied: six>=1.4.0 in /usr/local/lib/python3.8/site-packages (from docker) (1.15.0)\n",
      "Requirement already satisfied: requests!=2.18.0,>=2.14.2 in /usr/local/lib/python3.8/site-packages (from docker) (2.24.0)\n",
      "Requirement already satisfied: websocket-client>=0.32.0 in /usr/local/lib/python3.8/site-packages (from docker) (0.57.0)\n",
      "Requirement already satisfied: chardet<4,>=3.0.2 in /usr/local/lib/python3.8/site-packages (from requests!=2.18.0,>=2.14.2->docker) (3.0.4)\n",
      "Requirement already satisfied: urllib3!=1.25.0,!=1.25.1,<1.26,>=1.21.1 in /usr/local/lib/python3.8/site-packages (from requests!=2.18.0,>=2.14.2->docker) (1.25.11)\n",
      "Requirement already satisfied: idna<3,>=2.5 in /usr/local/lib/python3.8/site-packages (from requests!=2.18.0,>=2.14.2->docker) (2.10)\n",
      "Requirement already satisfied: certifi>=2017.4.17 in /usr/local/lib/python3.8/site-packages (from requests!=2.18.0,>=2.14.2->docker) (2020.6.20)\n",
      "CPU times: user 2.72 ms, sys: 654 µs, total: 3.37 ms\n",
      "Wall time: 9.9 s\n"
     ]
    },
    {
     "data": {
      "text/plain": [
       "{'IdentityToken': '', 'Status': 'Login Succeeded'}"
      ]
     },
     "execution_count": 9,
     "metadata": {},
     "output_type": "execute_result"
    }
   ],
   "source": [
    "import sys\n",
    "!{sys.executable} -m pip install docker\n",
    "\n",
    "import docker, datetime\n",
    "if BUILDKIT:\n",
    "    os.environ.update({\"DOCKER_BUILDKIT\":\"1\"})\n",
    "client = docker.from_env()\n",
    "\n",
    "%time client.login(username=USER, password=PASS, reauth=True)"
   ]
  },
  {
   "cell_type": "code",
   "execution_count": 10,
   "metadata": {},
   "outputs": [],
   "source": [
    "timestamp=datetime.date.today().strftime(\"%Y%m%d%H%sb\")\n",
    "if FULL:\n",
    "    TAG=\"kenney/%s-%s\" % (DIR, timestamp)\n",
    "else:\n",
    "    TAG=\"kenney/mobile:%s-%s\" % (DIR, timestamp)\n",
    "\n",
    "VALIDTAG=TAG.lower()\n",
    "try:\n",
    "    client.images.build(tag=VALIDTAG, path=DIR)\n",
    "except TypeError:\n",
    "    print(\"path has no dockerfile\")\n",
    "    sys.exit(1)\n",
    "except:\n",
    "    print(\"repo must be lowercase/valid syntax\")\n",
    "    sys.exit(1)"
   ]
  },
  {
   "cell_type": "code",
   "execution_count": 6,
   "metadata": {},
   "outputs": [
    {
     "data": {
      "text/plain": [
       "'{\"status\":\"The push refers to repository [docker.io/kenney/interviews-20201224001608796800]\"}\\r\\n{\"status\":\"Preparing\",\"progressDetail\":{},\"id\":\"e6891b5363de\"}\\r\\n{\"errorDetail\":{\"message\":\"denied: requested access to the resource is denied\"},\"error\":\"denied: requested access to the resource is denied\"}\\r\\n'"
      ]
     },
     "execution_count": 6,
     "metadata": {},
     "output_type": "execute_result"
    }
   ],
   "source": [
    "try:\n",
    "    output = client.images.push(repository=VALIDTAG)\n",
    "except docker.errors.ReadTimeoutError:\n",
    "    raise BaseException(\"timeout\")\n",
    "except:\n",
    "    raise BaseException(\"unknown\")\n",
    "# TODO check syntax of juypter\n",
    "# TODO clean up same interview name image\n",
    "if DEBUG:\n",
    "    print(output)"
   ]
  },
  {
   "cell_type": "code",
   "execution_count": null,
   "metadata": {},
   "outputs": [],
   "source": [
    "if \"denied\" in output:\n",
    "    raise BaseException(\"denied\")"
   ]
  }
 ],
 "metadata": {
  "celltoolbar": "Tags",
  "kernelspec": {
   "display_name": "Python 3",
   "language": "python",
   "name": "python3"
  },
  "language_info": {
   "codemirror_mode": {
    "name": "ipython",
    "version": 3
   },
   "file_extension": ".py",
   "mimetype": "text/x-python",
   "name": "python",
   "nbconvert_exporter": "python",
   "pygments_lexer": "ipython3",
   "version": "3.8.6"
  }
 },
 "nbformat": 4,
 "nbformat_minor": 4
}
