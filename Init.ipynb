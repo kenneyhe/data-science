{
 "cells": [
  {
   "cell_type": "markdown",
   "metadata": {},
   "source": [
    "# Setup Git-crypt with empty directory"
   ]
  },
  {
   "cell_type": "code",
   "execution_count": 36,
   "metadata": {},
   "outputs": [],
   "source": [
    "DEBUG=True\n",
    "\n",
    "# feature flags to debug\n",
    "SETUP=False\n",
    "UNLOCK=True\n",
    "INCR_EXPERIMENTAL=False\n",
    "#ref: https://stephanosterburg.gitbook.io/scrapbook/data-science/jupiter-notebook-tips-and-tricks"
   ]
  },
  {
   "cell_type": "code",
   "execution_count": 37,
   "metadata": {},
   "outputs": [
    {
     "name": "stdout",
     "output_type": "stream",
     "text": [
      "Alias stored: gcrypt (docker run -t -v %s:/repo xueshanf/git-crypt git-crypt %s)\n",
      "Total number of aliases: 13\n"
     ]
    }
   ],
   "source": [
    "%alias gcrypt docker run -t -v %s:/repo xueshanf/git-crypt git-crypt %s\n",
    "%store gcrypt\n",
    "if DEBUG:\n",
    "    %alias"
   ]
  },
  {
   "cell_type": "code",
   "execution_count": 38,
   "metadata": {},
   "outputs": [
    {
     "name": "stdout",
     "output_type": "stream",
     "text": [
      "Error: Working directory not clean.\r",
      "\r\n",
      "Please commit your changes or 'git stash' them before running 'git-crypt unlock'.\r",
      "\r\n"
     ]
    }
   ],
   "source": [
    "if SETUP:\n",
    "    !python3 -m pip install ipywidgets\n",
    "    !python3 -m pip install papermill\n",
    "    %gcrypt /Users/kenneyhe/Desktop/data-science status -e\n",
    "    %gcrypt /Users/kenneyhe/Desktop/data-science init\n",
    "    %gcrypt /Users/kenneyhe/Desktop/data-science export-key git-crypt-ds-key\n",
    "    !mv git-crypt-ds-key ..\n",
    "    !git add .gitattributes\n",
    "    # if using osx to add\n",
    "    !brew install --build-from-source git-crypt\n",
    "    %gcrypt /Users/kenneyhe/Desktop/data-science unlock ../git-crypt-ds-key\n",
    "\n",
    "if UNLOCK:\n",
    "    !docker run -t -v $PWD:/repo  -v /Users/kenneyhe/Desktop/git-crypt-ds-key:/repo/key xueshanf/git-crypt git-crypt unlock key"
   ]
  },
  {
   "cell_type": "code",
   "execution_count": 39,
   "metadata": {},
   "outputs": [
    {
     "name": "stdout",
     "output_type": "stream",
     "text": [
      "\u001b[41m[ERROR]\u001b[m Your pre-commit configuration is unstaged.\r\n",
      "`git add .pre-commit-config.yaml` to fix this.\r\n"
     ]
    }
   ],
   "source": [
    "!git commit -m \"Tell git-crypt to encrypt secrets.yaml\""
   ]
  },
  {
   "cell_type": "code",
   "execution_count": 40,
   "metadata": {},
   "outputs": [],
   "source": [
    "# %load secrets.yaml\n",
    "PASS=\"d3229f71-4047-4136-a0b8-22cbb83737a2\"\n",
    "USER=\"kenney\"\n"
   ]
  },
  {
   "cell_type": "code",
   "execution_count": null,
   "metadata": {},
   "outputs": [],
   "source": [
    "# %load api.py\n",
    "'''\n",
    "API for backup current directory to kenney/mobile docker hub repo with\n",
    "dated tag\n",
    "'''\n",
    "\n",
    "import datetime\n",
    "import uuid\n",
    "import os\n",
    "import sys\n",
    "import papermill as pm\n",
    "\n",
    "timestamp=datetime.date.today().strftime(\"%Y%m%d%H%sb\")\n",
    "UUID_STR=str(uuid.uuid1())[0:7]\n",
    "\n",
    "\n",
    "# default feature flags\n",
    "INCR_EXPERIMENTAL=False\n",
    "DEBUG=False\n",
    "RESTORE=False\n",
    "DEP_NEED=False\n",
    "\n",
    "\n",
    "def sync_mobile(dir_name, usern=\"\", passw=\"\"):\n",
    "    '''\n",
    "        DESCRIPTION: sync latest to the current dated tag\n",
    "        PARAM: dir_list is list of directorys under Desktop\n",
    "               gs://.../.. can be used instead if upload output to\n",
    "               s3\n",
    "    '''\n",
    "    if INCR_EXPERIMENTAL:\n",
    "        d_lower = dir_name.lower()\n",
    "        # match backup helper convention\n",
    "        tag_name =\"%s-%s\" % (d_lower, timestamp)\n",
    "\n",
    "        status = os.system('''\n",
    "                    docker login -u {user} --password {dpass};\n",
    "                    docker tag kenney/{tname} kenney/mobile:{tname};\n",
    "                    docker tag kenney/{tname} kenney/mobile:{tdir}-latest;\n",
    "                    docker push kenney/mobile:{tname} && docker push kenney/mobile:{tdir}-latest;\n",
    "                    '''.format(tname=tag_name, tdir=d_lower, user=usern, dpass=passw))\n",
    "        if DEBUG:\n",
    "            print('%s has status %d: done' % (tag_name, status))\n",
    "        assert status == 0, \"failed\"\n",
    "\n",
    "\n",
    "def backup(dir_list, is_full=False, generate=False, user=\"\", passw=\"\"):\n",
    "    '''\n",
    "        DESCRIPTION: backups the dir_lists and upload to docker\n",
    "        PARAM: dir_list is list of directorys under Desktop\n",
    "               gs://.../.. can be used instead if upload output to\n",
    "               s3\n",
    "        EXCEPTIONS: throw exception up to caller if unexpected\n",
    "    '''\n",
    "    for d_name in dir_list:\n",
    "        uuid_str=str(uuid.uuid1())[0:7]\n",
    "        output=\"output_%s_run_backup_%s.ipynb\" % (timestamp, uuid_str)\n",
    "        try:\n",
    "            notebook = pm.execute_notebook(\"BackupHelper.ipynb\",\n",
    "                                output,\n",
    "                                {\n",
    "                                 \"USER\": user,\n",
    "                                 \"PASS\": passw,\n",
    "                                 \"DIR\": d_name,\n",
    "                                 \"DEBUG\": False,\n",
    "                                 \"FULL\": is_full,\n",
    "                                 \"GEN\": generate,\n",
    "                                 \"progress_bar\": True,\n",
    "                                 \"log_output\": True,\n",
    "                                 \"report_mode\": True,\n",
    "                                }\n",
    "                               )\n",
    "            print(notebook)\n",
    "        except pm.PapermillExecutionError:\n",
    "            print(\"failed to run %s\" %(d_name))\n",
    "            if DEBUG:\n",
    "                print(uuid_str, '=>', output)\n",
    "                print(str(notebook))\n",
    "\n",
    "            sys.exit(1)\n",
    "        print('%s is done' % (d_name))\n",
    "\n",
    "        sync_mobile(d_name)\n",
    "\n",
    "\n",
    "def restore(dir_dict, user=\"\", passw=\"\"):\n",
    "    '''\n",
    "        DESCRIPTION: restores the dir_lists and upload to docker\n",
    "               assuming all directories are made to be public\n",
    "        PARAM: dir_dict is dictionary of directory name with tags\n",
    "               under Desktop\n",
    "               gs://.../.. can be used instead if upload output to\n",
    "               s3\n",
    "    '''\n",
    "    for dir_name, tag in dir_dict.items():\n",
    "        uuid_str=str(uuid.uuid1())[0:7]\n",
    "        output=\"output_%s_run_restore_%s.ipynb\" % (timestamp, uuid_str)\n",
    "        try:\n",
    "            notebook = pm.execute_notebook(\"RestoreBackup.ipynb\",\n",
    "                                output,\n",
    "                                {\n",
    "                                 \"USER\": user,\n",
    "                                 \"PASS\": passw,\n",
    "                                 \"DIR\": dir,\n",
    "                                 \"TAG\": tag,\n",
    "                                 \"DEBUG\": True}\n",
    "                               )\n",
    "        except pm.PapermillExecutionError:\n",
    "            print(\"failed to run %s\" %(dir_name))\n",
    "            if DEBUG:\n",
    "                print(uuid_str, '=>', output)\n",
    "                print(str(notebook))\n",
    "            sys.exit(1)\n",
    "\n",
    "\n",
    "def cleanup():\n",
    "    '''\n",
    "        DESCRIPTION: cleanup pyc, .DS_Store, __pycache__ files and\n",
    "               prune all images unused\n",
    "        PARAM: None\n",
    "    '''\n",
    "    status = os.system(r'''\n",
    "                find . -iname \\*pyc -exec rm {} \\;\n",
    "                find . -iname .DS_Store -exec rm {} \\;\n",
    "                find . -iname __pycache__ -exec rmdir {} \\;\n",
    "                docker system prune -af;\n",
    "                ''')\n",
    "    assert status == 0, \"failed\"\n",
    "\n",
    "\n",
    "def backup_incre(dir_list, user=\"\", passw=\"\"):\n",
    "    '''\n",
    "        DESCRIPTION: use docker-compose to do incremental and faster\n",
    "                backup.  Must have INCR_EXPERIMENTAL as True to\n",
    "                speedup. Uses latest tag to speed up\n",
    "        PARAM: None\n",
    "        RETURN: if success returns 0, otherwise non-zero\n",
    "    '''\n",
    "    try:\n",
    "        backup(dir_list, is_full=False, generate=True, user=user, passw=passw)\n",
    "    except pm.PapermillException as err:\n",
    "        print(str(err))\n",
    "        return -1\n",
    "    return 0\n",
    "\n",
    "\n",
    "def widget_run_default_backup(pos, blist):\n",
    "    '''\n",
    "        DESCRIPTION: use button to trigger backup from the blist selected\n",
    "        PARAM: None\n",
    "    '''\n",
    "\n",
    "    selected = blist.trait_values()['value']\n",
    "    if DEBUG:\n",
    "        print(selected)\n",
    "    pos.set_trait('button_style', 'info')\n",
    "    pos.set_trait('description', 'In progress...')\n",
    "\n",
    "    if backup_incre(selected) == 0:\n",
    "        pos.set_trait('button_style', 'success')\n",
    "        pos.set_trait('description', 'Done')\n",
    "    else:\n",
    "        pos.set_trait('button_style', 'danger')\n",
    "        pos.set_trait('description', 'Failed')\n"
   ]
  },
  {
   "cell_type": "code",
   "execution_count": 58,
   "metadata": {},
   "outputs": [
    {
     "data": {
      "application/vnd.jupyter.widget-view+json": {
       "model_id": "c5fa0f12e8d8420e952b392ae2fdbe9b",
       "version_major": 2,
       "version_minor": 0
      },
      "text/plain": [
       "HBox(children=(HTML(value='Executing'), FloatProgress(value=0.0, max=10.0), HTML(value='')))"
      ]
     },
     "metadata": {},
     "output_type": "display_data"
    },
    {
     "name": "stdout",
     "output_type": "stream",
     "text": [
      "\n",
      "Tests is done\n"
     ]
    }
   ],
   "source": [
    "    backup([\"Tests\"], user=USER, passw=PASS)"
   ]
  },
  {
   "cell_type": "code",
   "execution_count": 59,
   "metadata": {},
   "outputs": [
    {
     "name": "stdout",
     "output_type": "stream",
     "text": [
      "\u0000GITCRYPT\u0000e?�\r",
      "è\"\u0014\u0015�U�Y\u0000��D�6�\u0001��q��>�U�c\u0017���\u000b",
      "咂Pn�\u0016��[=�j��G89�(3Ё¼�LiVV\u001c",
      "�<"
     ]
    }
   ],
   "source": [
    "%gcrypt /Users/kenneyhe/Desktop/data-science lock --force\n",
    "!cat secrets.yaml"
   ]
  },
  {
   "cell_type": "code",
   "execution_count": 146,
   "metadata": {},
   "outputs": [
    {
     "name": "stdout",
     "output_type": "stream",
     "text": [
      "not encrypted: .ipynb_checkpoints/Api-checkpoint.ipynb\n",
      "not encrypted: .ipynb_checkpoints/BackupHelper-checkpoint.ipynb\n",
      "not encrypted: .gitattributes\n",
      "not encrypted: .gitignore\n",
      "not encrypted: .ipynb_checkpoints/Init-checkpoint.ipynb\n",
      "not encrypted: BackupHelper.ipynb\n",
      "not encrypted: Init.ipynb\n",
      "not encrypted: LICENSE\n",
      "not encrypted: README.md\n",
      "not encrypted: Tests/Dockerfile\n",
      "not encrypted: Tests/Widget%20List.ipynb\n",
      "not encrypted: api.py\n",
      "    encrypted: secrets.yaml\n"
     ]
    }
   ],
   "source": [
    "%gcrypt /Users/kenneyhe/Desktop/data-science status"
   ]
  },
  {
   "cell_type": "markdown",
   "metadata": {},
   "source": [
    "# Setup pre-commit"
   ]
  },
  {
   "cell_type": "code",
   "execution_count": 32,
   "metadata": {},
   "outputs": [
    {
     "name": "stdout",
     "output_type": "stream",
     "text": [
      "Overwriting .pre-commit-config.yaml\n"
     ]
    }
   ],
   "source": [
    "%%writefile .pre-commit-config.yaml\n",
    "repos:\n",
    "-   repo: https://github.com/pre-commit/pre-commit-hooks\n",
    "    rev: v3.4.0\n",
    "    hooks:\n",
    "    -   id: check-json\n",
    "    -   id: check-yaml\n",
    "    -   id: trailing-whitespace\n",
    "    -   id: end-of-file-fixer\n",
    "-   repo: https://github.com/pre-commit/mirrors-pylint\n",
    "    rev: ''  # Use the sha / tag you want to point at\n",
    "    hooks:\n",
    "    -   id: pylint\n",
    "-   repo: https://github.com/pre-commit/mirrors-eslint\n",
    "    rev: v7.17.0\n",
    "    hooks:\n",
    "    -   id: eslint\n",
    "        args: [--fix]"
   ]
  },
  {
   "cell_type": "code",
   "execution_count": 33,
   "metadata": {},
   "outputs": [
    {
     "name": "stdout",
     "output_type": "stream",
     "text": [
      "Overwriting .github/workflows/pre-commit.yml\n"
     ]
    }
   ],
   "source": [
    "%%writefile .github/workflows/pre-commit.yml \n",
    "name: pre-commit\n",
    "\n",
    "on:\n",
    "  pull_request:\n",
    "  push:\n",
    "    branches:\n",
    "    - main\n",
    "    - master\n",
    "jobs:\n",
    "  pre-commit:\n",
    "    runs-on: ubuntu-latest\n",
    "    steps:\n",
    "    - uses: actions/checkout@v2\n",
    "    - uses: actions/setup-python@v2\n",
    "    - uses: pre-commit/action@v2.0.0\n",
    "      with:\n",
    "        extra_args: eslint"
   ]
  },
  {
   "cell_type": "code",
   "execution_count": null,
   "metadata": {},
   "outputs": [],
   "source": [
    "%%bash\n",
    "pre-commit install\n",
    "pre-commit run --all-files\n"
   ]
  }
 ],
 "metadata": {
  "celltoolbar": "Tags",
  "kernelspec": {
   "display_name": "Python 3",
   "language": "python",
   "name": "python3"
  },
  "language_info": {
   "codemirror_mode": {
    "name": "ipython",
    "version": 3
   },
   "file_extension": ".py",
   "mimetype": "text/x-python",
   "name": "python",
   "nbconvert_exporter": "python",
   "pygments_lexer": "ipython3",
   "version": "3.8.6"
  }
 },
 "nbformat": 4,
 "nbformat_minor": 4
}
