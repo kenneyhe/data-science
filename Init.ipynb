{
 "cells": [
  {
   "cell_type": "markdown",
   "metadata": {},
   "source": [
    "# Setup Git-crypt with empty directory"
   ]
  },
  {
   "cell_type": "code",
   "execution_count": 184,
   "metadata": {},
   "outputs": [],
   "source": [
    "DEBUG=True\n",
    "\n",
    "# feature flags to debug\n",
    "SETUP=False\n",
    "UNLOCK=True\n",
    "INCR_EXPERIMENTAL=False\n",
    "#ref: https://stephanosterburg.gitbook.io/scrapbook/data-science/jupiter-notebook-tips-and-tricks"
   ]
  },
  {
   "cell_type": "code",
   "execution_count": 177,
   "metadata": {},
   "outputs": [
    {
     "name": "stdout",
     "output_type": "stream",
     "text": [
      "Alias stored: gcrypt (docker run -t -v %s:/repo xueshanf/git-crypt git-crypt %s)\n",
      "Total number of aliases: 16\n"
     ]
    }
   ],
   "source": [
    "%alias gcrypt docker run -t -v %s:/repo xueshanf/git-crypt git-crypt %s\n",
    "%store gcrypt\n",
    "if DEBUG:\n",
    "    %alias"
   ]
  },
  {
   "cell_type": "code",
   "execution_count": 169,
   "metadata": {},
   "outputs": [
    {
     "name": "stdout",
     "output_type": "stream",
     "text": [
      "Error: Working directory not clean.\r",
      "\r\n",
      "Please commit your changes or 'git stash' them before running 'git-crypt unlock'.\r",
      "\r\n"
     ]
    }
   ],
   "source": [
    "if SETUP:\n",
    "    pass\n",
    "    %gcrypt /Users/kenneyhe/Desktop/data-science status -e\n",
    "    %gcrypt /Users/kenneyhe/Desktop/data-science init\n",
    "    %gcrypt /Users/kenneyhe/Desktop/data-science export-key git-crypt-ds-key\n",
    "    !mv git-crypt-ds-key ..\n",
    "    !git add .gitattributes\n",
    "    # if using osx to add\n",
    "    !brew install --build-from-source git-crypt\n",
    "    %gcrypt /Users/kenneyhe/Desktop/data-science unlock ../git-crypt-ds-key\n",
    "\n",
    "if UNLOCK:\n",
    "    !cp ../git-crypt-ds-key .\n",
    "    %gcrypt /Users/kenneyhe/Desktop/data-science unlock git-crypt-ds-key\n",
    "    !rm git-crypt-ds-key"
   ]
  },
  {
   "cell_type": "code",
   "execution_count": 170,
   "metadata": {},
   "outputs": [
    {
     "name": "stdout",
     "output_type": "stream",
     "text": [
      "Overwriting .gitattributes\n"
     ]
    }
   ],
   "source": [
    "%%writefile .gitattributes\n",
    "secrets.yaml filter=git-crypt diff=git-crypt\n"
   ]
  },
  {
   "cell_type": "code",
   "execution_count": 171,
   "metadata": {},
   "outputs": [
    {
     "name": "stdout",
     "output_type": "stream",
     "text": [
      "On branch main\r\n",
      "Your branch is up to date with 'origin/main'.\r\n",
      "\r\n",
      "Changes not staged for commit:\r\n",
      "  (use \"git add <file>...\" to update what will be committed)\r\n",
      "  (use \"git restore <file>...\" to discard changes in working directory)\r\n",
      "\t\u001b[31mmodified:   Init.ipynb\u001b[m\r\n",
      "\r\n",
      "Untracked files:\r\n",
      "  (use \"git add <file>...\" to include in what will be committed)\r\n",
      "\t\u001b[31m.ipynb_checkpoints/Api-checkpoint.ipynb\u001b[m\r\n",
      "\t\u001b[31m.ipynb_checkpoints/BackupHelper-checkpoint.ipynb\u001b[m\r\n",
      "\r\n",
      "no changes added to commit (use \"git add\" and/or \"git commit -a\")\r\n"
     ]
    }
   ],
   "source": [
    "!git commit -m \"Tell git-crypt to encrypt secrets.yaml\""
   ]
  },
  {
   "cell_type": "code",
   "execution_count": null,
   "metadata": {},
   "outputs": [],
   "source": [
    "# %load secrets.yaml\n",
    "PASS=\"951766d1-4c6d-44be-b610-ee0eba6f372d\"\n",
    "USER=\"kenney\"\n"
   ]
  },
  {
   "cell_type": "code",
   "execution_count": 185,
   "metadata": {},
   "outputs": [],
   "source": [
    "# %load api.py\n",
    "import papermill as pm\n",
    "import datetime, uuid, os, sys\n",
    "\n",
    "timestamp=datetime.date.today().strftime(\"%Y%m%d%H%sb\")\n",
    "uuid_str=str(uuid.uuid1())[0:7]\n",
    "\n",
    "import ipywidgets as widgets\n",
    "\n",
    "# default feature flags\n",
    "INCR_EXPERIMENTAL=False\n",
    "DEBUG=False\n",
    "RESTORE=False\n",
    "DEP_NEED=False\n",
    "\n",
    "def sync_mobile(dir):\n",
    "    '''\n",
    "        DESCRIPTION: sync latest to the current dated tag\n",
    "        PARAM: dir_list is list of directorys under Desktop\n",
    "               gs://.../.. can be used instead if upload output to\n",
    "               s3\n",
    "    '''    \n",
    "    if INCR_EXPERIMENTAL:\n",
    "        dir = dir.lower()\n",
    "        # match backup helper convention\n",
    "        TAG_NAME=\"%s-%s\" % (dir, timestamp)\n",
    "\n",
    "        status = os.system('''\n",
    "                    docker login -u {user} --password {dpass};\n",
    "                    docker tag kenney/{tname} kenney/mobile:{tname};\n",
    "                    docker tag kenney/{tname} kenney/mobile:{tdir}-latest;            \n",
    "                    docker push kenney/mobile:{tname} && docker push kenney/mobile:{tdir}-latest;         \n",
    "                    '''.format(tname=TAG_NAME, tdir=dir, user=USER, dpass=PASS))\n",
    "        if DEBUG:\n",
    "            print('%s has status %d: done' % (TAG_NAME, status))\n",
    "        assert status == 0, \"failed\"\n",
    "\n",
    "\n",
    "def backup(dir_list, isFull=False, generate=False):\n",
    "    '''\n",
    "        DESCRIPTION: backups the dir_lists and upload to docker\n",
    "        PARAM: dir_list is list of directorys under Desktop\n",
    "               gs://.../.. can be used instead if upload output to\n",
    "               s3\n",
    "        EXCEPTIONS: throw exception up to caller if unexpected\n",
    "    '''\n",
    "    for dir in dir_list:\n",
    "        uuid_str=str(uuid.uuid1())[0:7]\n",
    "        output=\"output_%s_run_backup_%s.ipynb\" % (timestamp, uuid_str)\n",
    "        try:\n",
    "            pm.execute_notebook(\"BackupHelper.ipynb\",\n",
    "                                output,\n",
    "                                {\"PASS\": PASS,\n",
    "                                 \"DIR\": dir,\n",
    "                                 \"DEBUG\": False,\n",
    "                                 \"FULL\": isFull,\n",
    "                                 \"GEN\": generate,\n",
    "                                 \"progress_bar\": True,\n",
    "                                 \"log_output\": True,\n",
    "                                 \"report_mode\": True,\n",
    "                                }\n",
    "                               )\n",
    "        except pm.PapermillExecutionError:\n",
    "            print(\"failed to run %s\" %(dir))\n",
    "            if DEBUG:\n",
    "                print(uuid_str, '=>', output)\n",
    "            sys.exit(1)\n",
    "        print('%s is done' % (dir))\n",
    "\n",
    "        sync_mobile(dir)\n",
    "\n",
    "\n",
    "def restore(dir_dict):\n",
    "    '''\n",
    "        DESCRIPTION: restores the dir_lists and upload to docker\n",
    "               assuming all directories are made to be public\n",
    "        PARAM: dir_dict is dictionary of directory name with tags\n",
    "               under Desktop\n",
    "               gs://.../.. can be used instead if upload output to\n",
    "               s3\n",
    "    '''\n",
    "    for dir, tag in dir_dict.items():\n",
    "        uuid_str=str(uuid.uuid1())[0:7]\n",
    "        output=\"output_%s_run_restore_%s.ipynb\" % (timestamp, uuid_str)\n",
    "        try:\n",
    "            pm.execute_notebook(\"RestoreBackup.ipynb\",\n",
    "                                output,\n",
    "                                {\"PASS\": PASS, \n",
    "                                 \"DIR\": dir,\n",
    "                                 \"TAG\": tag,\n",
    "                                 \"DEBUG\": True}\n",
    "                               )\n",
    "        except pm.PapermillExecutionError:\n",
    "            print(\"failed to run %s\" %(dir))\n",
    "            if DEBUG:\n",
    "                print(uuid_str, '=>', output)\n",
    "            sys.exit(1)\n",
    "        except:\n",
    "            print(\"unknown error\")\n",
    "            sys.exit(1)\n",
    "\n",
    "\n",
    "def cleanup():\n",
    "    '''\n",
    "        DESCRIPTION: cleanup pyc, .DS_Store, __pycache__ files and\n",
    "               prune all images unused\n",
    "        PARAM: None   \n",
    "    '''\n",
    "    status = os.system('''\n",
    "                find . -iname \\*pyc -exec rm {} \\;\n",
    "                find . -iname .DS_Store -exec rm {} \\;\n",
    "                find . -iname __pycache__ -exec rmdir {} \\;\n",
    "                docker system prune -af;\n",
    "                ''')\n",
    "    assert status == 0, \"failed\"\n",
    "\n",
    "\n",
    "def backup_incre(dir_list):\n",
    "    '''\n",
    "        DESCRIPTION: use docker-compose to do incremental and faster\n",
    "                backup.  Must have INCR_EXPERIMENTAL as True to \n",
    "                speedup. Uses latest tag to speed up\n",
    "        PARAM: None\n",
    "        RETURN: if success returns 0, otherwise non-zero\n",
    "    '''\n",
    "    try:\n",
    "        backup(dir_list, isFull=False, generate=True)\n",
    "    except:\n",
    "        return -1\n",
    "    return 0\n",
    "\n",
    "\n",
    "def widget_run_default_backup(pos):\n",
    "    '''\n",
    "        DESCRIPTION: use button to trigger backup from the blist selected\n",
    "        PARAM: None      \n",
    "    '''\n",
    "\n",
    "    selected = blist.trait_values()['value']\n",
    "    if DEBUG:\n",
    "        print(selected)\n",
    "    pos.set_trait('button_style', 'info')\n",
    "    pos.set_trait('description', 'In progress...') \n",
    "    \n",
    "    if backup_incre(selected) == 0:\n",
    "        pos.set_trait('button_style', 'success')\n",
    "        pos.set_trait('description', 'Done')\n",
    "    else:\n",
    "        pos.set_trait('button_style', 'danger')\n",
    "        pos.set_trait('description', 'Failed')\n"
   ]
  },
  {
   "cell_type": "code",
   "execution_count": 187,
   "metadata": {},
   "outputs": [],
   "source": [
    "if DEBUG:\n",
    "  import sys\n",
    "  backup([\"Tests\"])"
   ]
  },
  {
   "cell_type": "code",
   "execution_count": 147,
   "metadata": {},
   "outputs": [
    {
     "name": "stdout",
     "output_type": "stream",
     "text": [
      "Error: this repository is already locked.\n",
      "\u0000GITCRYPT\u0000\u0011�ĳ\u000e\u0002��k-k�*/\u0000@9�^��F7��`2Pf�%�\u0010���\t+�1�\u0013\u000b",
      "���P��\u0005��\u000b",
      "���\u0019\u0000�&�\u000f�U`\u000b",
      "n"
     ]
    }
   ],
   "source": [
    "%gcrypt /Users/kenneyhe/Desktop/data-science lock --force\n",
    "!cat secrets.yaml"
   ]
  },
  {
   "cell_type": "code",
   "execution_count": 146,
   "metadata": {},
   "outputs": [
    {
     "name": "stdout",
     "output_type": "stream",
     "text": [
      "not encrypted: .ipynb_checkpoints/Api-checkpoint.ipynb\n",
      "not encrypted: .ipynb_checkpoints/BackupHelper-checkpoint.ipynb\n",
      "not encrypted: .gitattributes\n",
      "not encrypted: .gitignore\n",
      "not encrypted: .ipynb_checkpoints/Init-checkpoint.ipynb\n",
      "not encrypted: BackupHelper.ipynb\n",
      "not encrypted: Init.ipynb\n",
      "not encrypted: LICENSE\n",
      "not encrypted: README.md\n",
      "not encrypted: Tests/Dockerfile\n",
      "not encrypted: Tests/Widget%20List.ipynb\n",
      "not encrypted: api.py\n",
      "    encrypted: secrets.yaml\n"
     ]
    }
   ],
   "source": [
    "%gcrypt /Users/kenneyhe/Desktop/data-science status"
   ]
  },
  {
   "cell_type": "code",
   "execution_count": 166,
   "metadata": {},
   "outputs": [],
   "source": []
  },
  {
   "cell_type": "code",
   "execution_count": null,
   "metadata": {},
   "outputs": [],
   "source": []
  }
 ],
 "metadata": {
  "celltoolbar": "Tags",
  "kernelspec": {
   "display_name": "Python 3",
   "language": "python",
   "name": "python3"
  },
  "language_info": {
   "codemirror_mode": {
    "name": "ipython",
    "version": 3
   },
   "file_extension": ".py",
   "mimetype": "text/x-python",
   "name": "python",
   "nbconvert_exporter": "python",
   "pygments_lexer": "ipython3",
   "version": "3.8.6"
  }
 },
 "nbformat": 4,
 "nbformat_minor": 4
}
