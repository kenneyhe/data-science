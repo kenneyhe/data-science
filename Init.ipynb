{
 "cells": [
  {
   "cell_type": "code",
   "execution_count": 77,
   "metadata": {},
   "outputs": [],
   "source": [
    "DEBUG=True"
   ]
  },
  {
   "cell_type": "code",
   "execution_count": 78,
   "metadata": {},
   "outputs": [
    {
     "name": "stdout",
     "output_type": "stream",
     "text": [
      "Alias stored: gcrypt (docker run -t -v %s:/repo xueshanf/git-crypt git-crypt %s)\n",
      "Total number of aliases: 16\n"
     ]
    }
   ],
   "source": [
    "%alias gcrypt docker run -t -v %s:/repo xueshanf/git-crypt git-crypt %s\n",
    "%store gcrypt\n",
    "if DEBUG:\n",
    "    %alias"
   ]
  },
  {
   "cell_type": "code",
   "execution_count": 80,
   "metadata": {},
   "outputs": [
    {
     "name": "stdout",
     "output_type": "stream",
     "text": [
      "Error: this repository has already been initialized with git-crypt.\r",
      "\r\n"
     ]
    }
   ],
   "source": [
    "%gcrypt /Users/kenneyhe/Desktop/data-science status -e\n",
    "%gcrypt /Users/kenneyhe/Desktop/data-science init\n",
    "\n",
    "%gcrypt /Users/kenneyhe/Desktop/data-science export-key git-crypt-ds-key"
   ]
  },
  {
   "cell_type": "code",
   "execution_count": 76,
   "metadata": {},
   "outputs": [],
   "source": [
    "!mv git-crypt-ds-key .."
   ]
  },
  {
   "cell_type": "code",
   "execution_count": 83,
   "metadata": {},
   "outputs": [
    {
     "ename": "SyntaxError",
     "evalue": "invalid syntax (<ipython-input-83-9bb63c43fd14>, line 3)",
     "output_type": "error",
     "traceback": [
      "\u001b[0;36m  File \u001b[0;32m\"<ipython-input-83-9bb63c43fd14>\"\u001b[0;36m, line \u001b[0;32m3\u001b[0m\n\u001b[0;31m    secrets.yaml filter=git-crypt diff=git-crypt\u001b[0m\n\u001b[0m                 ^\u001b[0m\n\u001b[0;31mSyntaxError\u001b[0m\u001b[0;31m:\u001b[0m invalid syntax\n"
     ]
    }
   ],
   "source": [
    "%writefile .gitattributes\n",
    "\n",
    "secrets.yaml filter=git-crypt diff=git-crypt"
   ]
  },
  {
   "cell_type": "code",
   "execution_count": null,
   "metadata": {},
   "outputs": [],
   "source": []
  }
 ],
 "metadata": {
  "celltoolbar": "Tags",
  "kernelspec": {
   "display_name": "Python 3",
   "language": "python",
   "name": "python3"
  },
  "language_info": {
   "codemirror_mode": {
    "name": "ipython",
    "version": 3
   },
   "file_extension": ".py",
   "mimetype": "text/x-python",
   "name": "python",
   "nbconvert_exporter": "python",
   "pygments_lexer": "ipython3",
   "version": "3.8.6"
  }
 },
 "nbformat": 4,
 "nbformat_minor": 4
}
