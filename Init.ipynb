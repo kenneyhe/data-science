{
 "cells": [
  {
   "cell_type": "markdown",
   "metadata": {},
   "source": [
    "# Setup Git-crypt with empty directory"
   ]
  },
  {
   "cell_type": "code",
   "execution_count": 34,
   "metadata": {},
   "outputs": [],
   "source": [
    "DEBUG=True\n",
    "\n",
    "# feature flags to debug\n",
    "SETUP=False\n",
    "UNLOCK=True\n",
    "INCR_EXPERIMENTAL=False\n",
    "#ref: https://stephanosterburg.gitbook.io/scrapbook/data-science/jupiter-notebook-tips-and-tricks"
   ]
  },
  {
   "cell_type": "code",
   "execution_count": 24,
   "metadata": {},
   "outputs": [
    {
     "name": "stdout",
     "output_type": "stream",
     "text": [
      "Alias stored: gcrypt (docker run -t -v %s:/repo xueshanf/git-crypt git-crypt %s)\n",
      "Total number of aliases: 13\n"
     ]
    }
   ],
   "source": [
    "%alias gcrypt docker run -t -v %s:/repo xueshanf/git-crypt git-crypt %s\n",
    "%store gcrypt\n",
    "if DEBUG:\n",
    "    %alias"
   ]
  },
  {
   "cell_type": "code",
   "execution_count": 25,
   "metadata": {},
   "outputs": [
    {
     "name": "stdout",
     "output_type": "stream",
     "text": [
      "Error: Working directory not clean.\r",
      "\r\n",
      "Please commit your changes or 'git stash' them before running 'git-crypt unlock'.\r",
      "\r\n"
     ]
    }
   ],
   "source": [
    "if SETUP:\n",
    "    !python3 -m pip install ipywidgets\n",
    "    !python3 -m pip install papermill\n",
    "    %gcrypt /Users/kenneyhe/Desktop/data-science status -e\n",
    "    %gcrypt /Users/kenneyhe/Desktop/data-science init\n",
    "    %gcrypt /Users/kenneyhe/Desktop/data-science export-key git-crypt-ds-key\n",
    "    !mv git-crypt-ds-key ..\n",
    "    !git add .gitattributes\n",
    "    # if using osx to add\n",
    "    !brew install --build-from-source git-crypt\n",
    "    %gcrypt /Users/kenneyhe/Desktop/data-science unlock ../git-crypt-ds-key\n",
    "\n",
    "if UNLOCK:\n",
    "    !docker run -t -v $PWD:/repo  -v /Users/kenneyhe/Desktop/git-crypt-ds-key:/repo/key xueshanf/git-crypt git-crypt unlock key"
   ]
  },
  {
   "cell_type": "code",
   "execution_count": 26,
   "metadata": {},
   "outputs": [
    {
     "name": "stdout",
     "output_type": "stream",
     "text": [
      "\u001b[43;30m[WARNING]\u001b[m Unstaged files detected.\n",
      "[INFO]\u001b[m Stashing unstaged files to /Users/kenneyhe/.cache/pre-commit/patch1609821853.\n",
      "Check JSON...........................................(no files to check)\u001b[46;30mSkipped\u001b[m\n",
      "Check Yaml...........................................(no files to check)\u001b[46;30mSkipped\u001b[m\n",
      "Trim Trailing Whitespace.............................(no files to check)\u001b[46;30mSkipped\u001b[m\n",
      "Fix End of Files.....................................(no files to check)\u001b[46;30mSkipped\u001b[m\n",
      "pylint...............................................(no files to check)\u001b[46;30mSkipped\u001b[m\n",
      "eslint...............................................(no files to check)\u001b[46;30mSkipped\u001b[m\n",
      "[INFO]\u001b[m Restored changes from /Users/kenneyhe/.cache/pre-commit/patch1609821853.\n",
      "On branch main\n",
      "Your branch is ahead of 'origin/main' by 1 commit.\n",
      "  (use \"git push\" to publish your local commits)\n",
      "\n",
      "Changes not staged for commit:\n",
      "  (use \"git add <file>...\" to update what will be committed)\n",
      "  (use \"git restore <file>...\" to discard changes in working directory)\n",
      "\t\u001b[31mmodified:   Init.ipynb\u001b[m\n",
      "\t\u001b[31mmodified:   README.md\u001b[m\n",
      "\t\u001b[31mmodified:   api.py\u001b[m\n",
      "\n",
      "Untracked files:\n",
      "  (use \"git add <file>...\" to include in what will be committed)\n",
      "\t\u001b[31m.ipynb_checkpoints/\u001b[m\n",
      "\t\u001b[31mapi-new.py\u001b[m\n",
      "\t\u001b[31mkey\u001b[m\n",
      "\n",
      "no changes added to commit (use \"git add\" and/or \"git commit -a\")\n"
     ]
    }
   ],
   "source": [
    "!git commit -m \"Tell git-crypt to encrypt secrets.yaml\" secrets.yaml"
   ]
  },
  {
   "cell_type": "code",
   "execution_count": 38,
   "metadata": {
    "tags": [
     "Parameters"
    ]
   },
   "outputs": [],
   "source": [
    "PASS=\"\"\n",
    "USER=\"\"\n",
    "DIR=\"\""
   ]
  },
  {
   "cell_type": "code",
   "execution_count": 39,
   "metadata": {},
   "outputs": [],
   "source": [
    "%run api.py"
   ]
  },
  {
   "cell_type": "code",
   "execution_count": 41,
   "metadata": {},
   "outputs": [
    {
     "data": {
      "application/vnd.jupyter.widget-view+json": {
       "model_id": "f56fb4a8508345bcb06636f67ee97457",
       "version_major": 2,
       "version_minor": 0
      },
      "text/plain": [
       "HBox(children=(HTML(value='Executing'), FloatProgress(value=0.0, max=10.0), HTML(value='')))"
      ]
     },
     "metadata": {},
     "output_type": "display_data"
    },
    {
     "name": "stdout",
     "output_type": "stream",
     "text": [
      "\n",
      "{'cells': [{'cell_type': 'markdown', 'metadata': {'tags': [], 'papermill': {'exception': False, 'start_time': '2021-01-05T04:48:26.398270', 'end_time': '2021-01-05T04:48:26.413187', 'duration': 0.014917, 'status': 'completed'}}, 'source': '# Backup Helper\\n'}, {'cell_type': 'code', 'execution_count': 1, 'metadata': {'tags': ['parameters'], 'papermill': {'exception': False, 'start_time': '2021-01-05T04:48:26.427568', 'end_time': '2021-01-05T04:48:26.460011', 'duration': 0.032443, 'status': 'completed'}, 'execution': {'iopub.status.busy': '2021-01-05T04:48:26.450616Z', 'iopub.execute_input': '2021-01-05T04:48:26.453967Z', 'shell.execute_reply': '2021-01-05T04:48:26.458230Z', 'iopub.status.idle': '2021-01-05T04:48:26.459159Z'}}, 'outputs': [], 'source': 'PASS=\"GIT_CRYPT\"\\nUSER=\"GIT_CRYPT\"\\nDIR=\"BackupVideo\"\\n\\n#feature flags for full backup (readonly) or incremental, DEBUG\\nDEBUG=False\\nFULL=False\\nBUILDKIT=True\\n# generate Dockerfile from one flat directory\\nGEN=False'}, {'cell_type': 'code', 'metadata': {'tags': ['injected-parameters'], 'papermill': {'exception': False, 'start_time': '2021-01-05T04:48:26.469020', 'end_time': '2021-01-05T04:48:26.492192', 'duration': 0.023172, 'status': 'completed'}, 'execution': {'iopub.status.busy': '2021-01-05T04:48:26.483106Z', 'iopub.execute_input': '2021-01-05T04:48:26.485144Z', 'shell.execute_reply': '2021-01-05T04:48:26.490349Z', 'iopub.status.idle': '2021-01-05T04:48:26.491757Z'}}, 'execution_count': 2, 'source': '# Parameters\\nUSER = \"kenney\"\\nPASS = \"a376678c-13c2-41c7-ba82-e3ea67b33e97\"\\nDIR = \"Tests\"\\nDEBUG = False\\nFULL = False\\nGEN = False\\nprogress_bar = True\\nlog_output = True\\nreport_mode = True\\n', 'outputs': []}, {'cell_type': 'code', 'execution_count': 3, 'metadata': {'tags': [], 'papermill': {'exception': False, 'start_time': '2021-01-05T04:48:26.500822', 'end_time': '2021-01-05T04:48:26.517431', 'duration': 0.016609, 'status': 'completed'}, 'execution': {'iopub.status.busy': '2021-01-05T04:48:26.513480Z', 'iopub.execute_input': '2021-01-05T04:48:26.514292Z', 'iopub.status.idle': '2021-01-05T04:48:26.516586Z', 'shell.execute_reply': '2021-01-05T04:48:26.517156Z'}}, 'outputs': [], 'source': 'import os\\nfrom hashlib import sha256\\nif DEBUG:\\n    print(\"USER\", \":\", USER, \", PASS\", \":\",\\n          sha256(PASS.encode(\\'utf-8\\')).hexdigest())'}, {'cell_type': 'code', 'execution_count': 4, 'metadata': {'tags': [], 'papermill': {'exception': False, 'start_time': '2021-01-05T04:48:26.526892', 'end_time': '2021-01-05T04:48:26.546230', 'duration': 0.019338, 'status': 'completed'}, 'execution': {'iopub.status.busy': '2021-01-05T04:48:26.541896Z', 'iopub.execute_input': '2021-01-05T04:48:26.543288Z', 'iopub.status.idle': '2021-01-05T04:48:26.544965Z', 'shell.execute_reply': '2021-01-05T04:48:26.545934Z'}}, 'outputs': [], 'source': 'if GEN:\\n    os.system(\\'\\'\\'\\n        cd {dir} && echo \"FROM scratch\" > Dockerfile &&\\n        for i in `ls -f *.*`;\\n          do \\n            echo \"ADD \\\\\\'$i\\\\\\' /backup\" >> Dockerfile; \\n          done  \\n        \\'\\'\\'.format(dir=DIR))'}, {'cell_type': 'markdown', 'metadata': {'tags': [], 'papermill': {'exception': False, 'start_time': '2021-01-05T04:48:26.554303', 'end_time': '2021-01-05T04:48:26.564329', 'duration': 0.010026, 'status': 'completed'}}, 'source': '## below can fail as default password is alway with invalid token'}, {'cell_type': 'code', 'execution_count': 5, 'metadata': {'tags': [], 'papermill': {'exception': False, 'start_time': '2021-01-05T04:48:26.572165', 'end_time': '2021-01-05T04:48:37.436515', 'duration': 10.86435, 'status': 'completed'}, 'execution': {'iopub.status.busy': '2021-01-05T04:48:26.590764Z', 'iopub.execute_input': '2021-01-05T04:48:26.591729Z', 'iopub.status.idle': '2021-01-05T04:48:37.429392Z', 'shell.execute_reply': '2021-01-05T04:48:37.431692Z'}}, 'outputs': [{'output_type': 'stream', 'name': 'stdout', 'text': 'Requirement already satisfied: docker in /usr/local/lib/python3.9/site-packages (4.4.1)\\r\\nRequirement already satisfied: six>=1.4.0 in /usr/local/lib/python3.9/site-packages (from docker) (1.15.0)\\r\\nRequirement already satisfied: websocket-client>=0.32.0 in /usr/local/lib/python3.9/site-packages (from docker) (0.57.0)\\r\\nRequirement already satisfied: requests!=2.18.0,>=2.14.2 in /usr/local/lib/python3.9/site-packages (from docker) (2.25.0)\\r\\n'}, {'output_type': 'stream', 'name': 'stdout', 'text': 'Requirement already satisfied: certifi>=2017.4.17 in /usr/local/lib/python3.9/site-packages (from requests!=2.18.0,>=2.14.2->docker) (2020.11.8)\\r\\nRequirement already satisfied: urllib3<1.27,>=1.21.1 in /usr/local/lib/python3.9/site-packages (from requests!=2.18.0,>=2.14.2->docker) (1.26.2)\\r\\nRequirement already satisfied: chardet<4,>=3.0.2 in /usr/local/lib/python3.9/site-packages (from requests!=2.18.0,>=2.14.2->docker) (3.0.4)\\r\\nRequirement already satisfied: idna<3,>=2.5 in /usr/local/lib/python3.9/site-packages (from requests!=2.18.0,>=2.14.2->docker) (2.10)\\r\\n'}, {'output_type': 'stream', 'name': 'stdout', 'text': 'CPU times: user 5.52 ms, sys: 11 ms, total: 16.5 ms\\nWall time: 8.36 s\\n'}, {'output_type': 'execute_result', 'metadata': {}, 'data': {'text/plain': \"{'IdentityToken': '', 'Status': 'Login Succeeded'}\"}, 'execution_count': 5}], 'source': 'import sys\\n!{sys.executable} -m pip install docker\\n\\nimport docker, datetime\\nif BUILDKIT:\\n    os.environ.update({\"DOCKER_BUILDKIT\":\"1\"})\\nclient = docker.from_env()\\n\\n%time client.login(username=USER, password=PASS, reauth=True)'}, {'cell_type': 'code', 'execution_count': 6, 'metadata': {'tags': [], 'papermill': {'exception': False, 'start_time': '2021-01-05T04:48:37.574048', 'end_time': '2021-01-05T04:48:37.823421', 'duration': 0.249373, 'status': 'completed'}, 'execution': {'iopub.status.busy': '2021-01-05T04:48:37.675978Z', 'iopub.execute_input': '2021-01-05T04:48:37.679453Z', 'shell.execute_reply': '2021-01-05T04:48:37.822296Z', 'iopub.status.idle': '2021-01-05T04:48:37.823175Z'}}, 'outputs': [], 'source': 'timestamp=datetime.date.today().strftime(\"%Y%m%d%H%sb\")\\nif FULL:\\n    TAG=\"kenney/%s-%s\" % (DIR, timestamp)\\nelse:\\n    TAG=\"kenney/mobile:%s-%s\" % (DIR, timestamp)\\n\\nVALIDTAG=TAG.lower()\\ntry:\\n    client.images.build(tag=VALIDTAG, path=DIR)\\nexcept TypeError:\\n    print(\"path has no dockerfile\")\\n    sys.exit(1)\\nexcept:\\n    print(\"repo must be lowercase/valid syntax\")\\n    sys.exit(1)'}, {'cell_type': 'code', 'execution_count': 7, 'metadata': {'tags': [], 'papermill': {'exception': False, 'start_time': '2021-01-05T04:48:37.835817', 'end_time': '2021-01-05T04:48:58.221401', 'duration': 20.385584, 'status': 'completed'}, 'execution': {'iopub.status.busy': '2021-01-05T04:48:37.855526Z', 'iopub.execute_input': '2021-01-05T04:48:37.857542Z', 'shell.execute_reply': '2021-01-05T04:48:58.218849Z', 'iopub.status.idle': '2021-01-05T04:48:58.220604Z'}}, 'outputs': [], 'source': 'try:\\n    output = client.images.push(repository=VALIDTAG)\\nexcept docker.errors.ReadTimeoutError:\\n    raise BaseException(\"timeout\")\\nexcept:\\n    raise BaseException(\"unknown\")\\n# TODO check syntax of juypter\\n# TODO clean up same interview name image\\nif DEBUG:\\n    print(output)'}, {'cell_type': 'code', 'execution_count': 8, 'metadata': {'tags': [], 'papermill': {'exception': False, 'start_time': '2021-01-05T04:48:58.244996', 'end_time': '2021-01-05T04:48:58.282519', 'duration': 0.037523, 'status': 'completed'}, 'execution': {'iopub.status.busy': '2021-01-05T04:48:58.274685Z', 'iopub.execute_input': '2021-01-05T04:48:58.277160Z', 'iopub.status.idle': '2021-01-05T04:48:58.280704Z', 'shell.execute_reply': '2021-01-05T04:48:58.282098Z'}}, 'outputs': [], 'source': 'if \"denied\" in output:\\n    raise BaseException(\"denied\")'}], 'metadata': {'celltoolbar': 'Tags', 'kernelspec': {'display_name': 'Python 3', 'language': 'python', 'name': 'python3'}, 'language_info': {'name': 'python', 'version': '3.9.1', 'mimetype': 'text/x-python', 'codemirror_mode': {'name': 'ipython', 'version': 3}, 'pygments_lexer': 'ipython3', 'nbconvert_exporter': 'python', 'file_extension': '.py'}, 'papermill': {'default_parameters': {}, 'parameters': {'USER': 'kenney', 'PASS': 'a376678c-13c2-41c7-ba82-e3ea67b33e97', 'DIR': 'Tests', 'DEBUG': False, 'FULL': False, 'GEN': False, 'progress_bar': True, 'log_output': True, 'report_mode': True}, 'environment_variables': {}, 'version': '2.2.2', 'input_path': 'BackupHelper.ipynb', 'output_path': 'output_20210104001609747200b_run_backup_3e34c29.ipynb', 'start_time': '2021-01-05T04:48:24.269711', 'end_time': '2021-01-05T04:48:58.723277', 'duration': 34.453566, 'exception': None}}, 'nbformat': 4, 'nbformat_minor': 4}\n",
      "Tests is done\n"
     ]
    }
   ],
   "source": [
    "if DEBUG:\n",
    "    backup([\"Tests\"], user=USER, passw=PASS)"
   ]
  },
  {
   "cell_type": "code",
   "execution_count": 59,
   "metadata": {},
   "outputs": [
    {
     "name": "stdout",
     "output_type": "stream",
     "text": [
      "\u0000GITCRYPT\u0000e?�\r",
      "è\"\u0014\u0015�U�Y\u0000��D�6�\u0001��q��>�U�c\u0017���\u000b",
      "咂Pn�\u0016��[=�j��G89�(3Ё¼�LiVV\u001c",
      "�<"
     ]
    }
   ],
   "source": [
    "%gcrypt /Users/kenneyhe/Desktop/data-science lock --force\n",
    "!cat secrets.yaml"
   ]
  },
  {
   "cell_type": "code",
   "execution_count": 146,
   "metadata": {},
   "outputs": [
    {
     "name": "stdout",
     "output_type": "stream",
     "text": [
      "not encrypted: .ipynb_checkpoints/Api-checkpoint.ipynb\n",
      "not encrypted: .ipynb_checkpoints/BackupHelper-checkpoint.ipynb\n",
      "not encrypted: .gitattributes\n",
      "not encrypted: .gitignore\n",
      "not encrypted: .ipynb_checkpoints/Init-checkpoint.ipynb\n",
      "not encrypted: BackupHelper.ipynb\n",
      "not encrypted: Init.ipynb\n",
      "not encrypted: LICENSE\n",
      "not encrypted: README.md\n",
      "not encrypted: Tests/Dockerfile\n",
      "not encrypted: Tests/Widget%20List.ipynb\n",
      "not encrypted: api.py\n",
      "    encrypted: secrets.yaml\n"
     ]
    }
   ],
   "source": [
    "%gcrypt /Users/kenneyhe/Desktop/data-science status"
   ]
  },
  {
   "cell_type": "markdown",
   "metadata": {},
   "source": [
    "# Setup pre-commit"
   ]
  },
  {
   "cell_type": "code",
   "execution_count": 32,
   "metadata": {},
   "outputs": [
    {
     "name": "stdout",
     "output_type": "stream",
     "text": [
      "Overwriting .pre-commit-config.yaml\n"
     ]
    }
   ],
   "source": [
    "%%writefile .pre-commit-config.yaml\n",
    "repos:\n",
    "-   repo: https://github.com/pre-commit/pre-commit-hooks\n",
    "    rev: v3.4.0\n",
    "    hooks:\n",
    "    -   id: check-json\n",
    "    -   id: check-yaml\n",
    "    -   id: trailing-whitespace\n",
    "    -   id: end-of-file-fixer\n",
    "-   repo: https://github.com/pre-commit/mirrors-pylint\n",
    "    rev: ''  # Use the sha / tag you want to point at\n",
    "    hooks:\n",
    "    -   id: pylint\n",
    "-   repo: https://github.com/pre-commit/mirrors-eslint\n",
    "    rev: v7.17.0\n",
    "    hooks:\n",
    "    -   id: eslint\n",
    "        args: [--fix]"
   ]
  },
  {
   "cell_type": "code",
   "execution_count": 33,
   "metadata": {},
   "outputs": [
    {
     "name": "stdout",
     "output_type": "stream",
     "text": [
      "Overwriting .github/workflows/pre-commit.yml\n"
     ]
    }
   ],
   "source": [
    "%%writefile .github/workflows/pre-commit.yml \n",
    "name: pre-commit\n",
    "\n",
    "on:\n",
    "  pull_request:\n",
    "  push:\n",
    "    branches:\n",
    "    - main\n",
    "    - master\n",
    "jobs:\n",
    "  pre-commit:\n",
    "    runs-on: ubuntu-latest\n",
    "    steps:\n",
    "    - uses: actions/checkout@v2\n",
    "    - uses: actions/setup-python@v2\n",
    "    - uses: pre-commit/action@v2.0.0\n",
    "      with:\n",
    "        extra_args: eslint"
   ]
  },
  {
   "cell_type": "code",
   "execution_count": 44,
   "metadata": {},
   "outputs": [
    {
     "name": "stdout",
     "output_type": "stream",
     "text": [
      "pre-commit installed at .git/hooks/pre-commit\n",
      "Check JSON...........................................(no files to check)Skipped\n",
      "Check Yaml...............................................................Passed\n",
      "Trim Trailing Whitespace.................................................Passed\n",
      "Fix End of Files.........................................................Passed\n",
      "pylint...................................................................Passed\n",
      "eslint...............................................(no files to check)Skipped\n"
     ]
    }
   ],
   "source": [
    "%%bash\n",
    "pre-commit install\n",
    "export PYTHONPATH=/usr/local/Cellar/python@3.9/3.9.1_3/Frameworks/Python.framework/Versions/3.9/lib/python3.9/site-packages \n",
    "pre-commit run --all-files\n"
   ]
  },
  {
   "cell_type": "code",
   "execution_count": null,
   "metadata": {},
   "outputs": [],
   "source": []
  }
 ],
 "metadata": {
  "celltoolbar": "Tags",
  "kernelspec": {
   "display_name": "Python 3",
   "language": "python",
   "name": "python3"
  },
  "language_info": {
   "codemirror_mode": {
    "name": "ipython",
    "version": 3
   },
   "file_extension": ".py",
   "mimetype": "text/x-python",
   "name": "python",
   "nbconvert_exporter": "python",
   "pygments_lexer": "ipython3",
   "version": "3.9.1"
  }
 },
 "nbformat": 4,
 "nbformat_minor": 4
}
