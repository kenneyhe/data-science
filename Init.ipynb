{
 "cells": [
  {
   "cell_type": "markdown",
   "metadata": {},
   "source": [
    "# Setup Git-crypt with empty directory"
   ]
  },
  {
   "cell_type": "code",
   "execution_count": 95,
   "metadata": {},
   "outputs": [],
   "source": [
    "DEBUG=True\n",
    "\n",
    "# feature flags to debug\n",
    "SETUP=False"
   ]
  },
  {
   "cell_type": "code",
   "execution_count": 96,
   "metadata": {},
   "outputs": [
    {
     "name": "stdout",
     "output_type": "stream",
     "text": [
      "Alias stored: gcrypt (docker run -t -v %s:/repo xueshanf/git-crypt git-crypt %s)\n",
      "Total number of aliases: 16\n"
     ]
    }
   ],
   "source": [
    "%alias gcrypt docker run -t -v %s:/repo xueshanf/git-crypt git-crypt %s\n",
    "%store gcrypt\n",
    "if DEBUG:\n",
    "    %alias"
   ]
  },
  {
   "cell_type": "code",
   "execution_count": 103,
   "metadata": {},
   "outputs": [],
   "source": [
    "if SETUP:\n",
    "    pass\n",
    "    %gcrypt /Users/kenneyhe/Desktop/data-science status -e\n",
    "    %gcrypt /Users/kenneyhe/Desktop/data-science init\n",
    "    %gcrypt /Users/kenneyhe/Desktop/data-science export-key git-crypt-ds-key\n",
    "    !mv git-crypt-ds-key ..\n",
    "    !git add .gitattributes\n",
    "    # if using osx to add\n",
    "    !brew install --build-from-source git-crypt"
   ]
  },
  {
   "cell_type": "code",
   "execution_count": 104,
   "metadata": {},
   "outputs": [
    {
     "name": "stdout",
     "output_type": "stream",
     "text": [
      "Overwriting .gitattributes\n"
     ]
    }
   ],
   "source": [
    "%%writefile .gitattributes\n",
    "secrets.yaml filter=git-crypt diff=git-crypt\n"
   ]
  },
  {
   "cell_type": "code",
   "execution_count": 106,
   "metadata": {},
   "outputs": [
    {
     "name": "stdout",
     "output_type": "stream",
     "text": [
      "On branch main\r\n",
      "Your branch is ahead of 'origin/main' by 3 commits.\r\n",
      "  (use \"git push\" to publish your local commits)\r\n",
      "\r\n",
      "Changes not staged for commit:\r\n",
      "  (use \"git add <file>...\" to update what will be committed)\r\n",
      "  (use \"git restore <file>...\" to discard changes in working directory)\r\n",
      "\t\u001b[31mmodified:   .ipynb_checkpoints/Init-checkpoint.ipynb\u001b[m\r\n",
      "\t\u001b[31mmodified:   Init.ipynb\u001b[m\r\n",
      "\r\n",
      "no changes added to commit (use \"git add\" and/or \"git commit -a\")\r\n"
     ]
    }
   ],
   "source": [
    "!git commit -m \"Tell git-crypt to encrypt secrets.yaml\""
   ]
  },
  {
   "cell_type": "code",
   "execution_count": 76,
   "metadata": {},
   "outputs": [],
   "source": []
  },
  {
   "cell_type": "code",
   "execution_count": null,
   "metadata": {},
   "outputs": [],
   "source": []
  }
 ],
 "metadata": {
  "celltoolbar": "Tags",
  "kernelspec": {
   "display_name": "Python 3",
   "language": "python",
   "name": "python3"
  },
  "language_info": {
   "codemirror_mode": {
    "name": "ipython",
    "version": 3
   },
   "file_extension": ".py",
   "mimetype": "text/x-python",
   "name": "python",
   "nbconvert_exporter": "python",
   "pygments_lexer": "ipython3",
   "version": "3.8.6"
  }
 },
 "nbformat": 4,
 "nbformat_minor": 4
}
