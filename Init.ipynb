{
 "cells": [
  {
   "cell_type": "markdown",
   "metadata": {},
   "source": [
    "# Setup Git-crypt with empty directory"
   ]
  },
  {
   "cell_type": "code",
   "execution_count": 198,
   "metadata": {},
   "outputs": [],
   "source": [
    "DEBUG=True\n",
    "\n",
    "# feature flags to debug\n",
    "SETUP=False\n",
    "UNLOCK=True\n",
    "INCR_EXPERIMENTAL=False\n",
    "#ref: https://stephanosterburg.gitbook.io/scrapbook/data-science/jupiter-notebook-tips-and-tricks"
   ]
  },
  {
   "cell_type": "code",
   "execution_count": 191,
   "metadata": {},
   "outputs": [
    {
     "name": "stdout",
     "output_type": "stream",
     "text": [
      "Alias stored: gcrypt (docker run -t -v %s:/repo xueshanf/git-crypt git-crypt %s)\n",
      "Total number of aliases: 16\n"
     ]
    }
   ],
   "source": [
    "%alias gcrypt docker run -t -v %s:/repo xueshanf/git-crypt git-crypt %s\n",
    "%store gcrypt\n",
    "if DEBUG:\n",
    "    %alias"
   ]
  },
  {
   "cell_type": "code",
   "execution_count": 192,
   "metadata": {},
   "outputs": [
    {
     "name": "stdout",
     "output_type": "stream",
     "text": [
      "Error: Working directory not clean.\r",
      "\r\n",
      "Please commit your changes or 'git stash' them before running 'git-crypt unlock'.\r",
      "\r\n"
     ]
    }
   ],
   "source": [
    "if SETUP:\n",
    "    pass\n",
    "    %gcrypt /Users/kenneyhe/Desktop/data-science status -e\n",
    "    %gcrypt /Users/kenneyhe/Desktop/data-science init\n",
    "    %gcrypt /Users/kenneyhe/Desktop/data-science export-key git-crypt-ds-key\n",
    "    !mv git-crypt-ds-key ..\n",
    "    !git add .gitattributes\n",
    "    # if using osx to add\n",
    "    !brew install --build-from-source git-crypt\n",
    "    %gcrypt /Users/kenneyhe/Desktop/data-science unlock ../git-crypt-ds-key\n",
    "\n",
    "if UNLOCK:\n",
    "    !docker run -t -v $PWD:/repo  -v /Users/kenneyhe/Desktop/git-crypt-ds-key:/repo/key xueshanf/git-crypt git-crypt unlock key"
   ]
  },
  {
   "cell_type": "code",
   "execution_count": 193,
   "metadata": {},
   "outputs": [
    {
     "name": "stdout",
     "output_type": "stream",
     "text": [
      "On branch main\r\n",
      "Your branch is up to date with 'origin/main'.\r\n",
      "\r\n",
      "Changes not staged for commit:\r\n",
      "  (use \"git add <file>...\" to update what will be committed)\r\n",
      "  (use \"git restore <file>...\" to discard changes in working directory)\r\n",
      "\t\u001b[31mmodified:   Init.ipynb\u001b[m\r\n",
      "\r\n",
      "Untracked files:\r\n",
      "  (use \"git add <file>...\" to include in what will be committed)\r\n",
      "\t\u001b[31m.ipynb_checkpoints/Api-checkpoint.ipynb\u001b[m\r\n",
      "\t\u001b[31m.ipynb_checkpoints/BackupHelper-checkpoint.ipynb\u001b[m\r\n",
      "\t\u001b[31mkey\u001b[m\r\n",
      "\r\n",
      "no changes added to commit (use \"git add\" and/or \"git commit -a\")\r\n"
     ]
    }
   ],
   "source": [
    "!git commit -m \"Tell git-crypt to encrypt secrets.yaml\""
   ]
  },
  {
   "cell_type": "code",
   "execution_count": 194,
   "metadata": {},
   "outputs": [],
   "source": [
    "# %load secrets.yaml\n",
    "PASS=\"951766d1-4c6d-44be-b610-ee0eba6f372d\"\n",
    "USER=\"kenney\"\n"
   ]
  },
  {
   "cell_type": "code",
   "execution_count": 195,
   "metadata": {},
   "outputs": [],
   "source": [
    "# %load api.py\n",
    "import papermill as pm\n",
    "import datetime, uuid, os, sys\n",
    "\n",
    "timestamp=datetime.date.today().strftime(\"%Y%m%d%H%sb\")\n",
    "uuid_str=str(uuid.uuid1())[0:7]\n",
    "\n",
    "import ipywidgets as widgets\n",
    "\n",
    "# default feature flags\n",
    "INCR_EXPERIMENTAL=False\n",
    "DEBUG=False\n",
    "RESTORE=False\n",
    "DEP_NEED=False\n",
    "\n",
    "def sync_mobile(dir):\n",
    "    '''\n",
    "        DESCRIPTION: sync latest to the current dated tag\n",
    "        PARAM: dir_list is list of directorys under Desktop\n",
    "               gs://.../.. can be used instead if upload output to\n",
    "               s3\n",
    "    '''    \n",
    "    if INCR_EXPERIMENTAL:\n",
    "        dir = dir.lower()\n",
    "        # match backup helper convention\n",
    "        TAG_NAME=\"%s-%s\" % (dir, timestamp)\n",
    "\n",
    "        status = os.system('''\n",
    "                    docker login -u {user} --password {dpass};\n",
    "                    docker tag kenney/{tname} kenney/mobile:{tname};\n",
    "                    docker tag kenney/{tname} kenney/mobile:{tdir}-latest;            \n",
    "                    docker push kenney/mobile:{tname} && docker push kenney/mobile:{tdir}-latest;         \n",
    "                    '''.format(tname=TAG_NAME, tdir=dir, user=USER, dpass=PASS))\n",
    "        if DEBUG:\n",
    "            print('%s has status %d: done' % (TAG_NAME, status))\n",
    "        assert status == 0, \"failed\"\n",
    "\n",
    "\n",
    "def backup(dir_list, isFull=False, generate=False):\n",
    "    '''\n",
    "        DESCRIPTION: backups the dir_lists and upload to docker\n",
    "        PARAM: dir_list is list of directorys under Desktop\n",
    "               gs://.../.. can be used instead if upload output to\n",
    "               s3\n",
    "        EXCEPTIONS: throw exception up to caller if unexpected\n",
    "    '''\n",
    "    for dir in dir_list:\n",
    "        uuid_str=str(uuid.uuid1())[0:7]\n",
    "        output=\"output_%s_run_backup_%s.ipynb\" % (timestamp, uuid_str)\n",
    "        try:\n",
    "            pm.execute_notebook(\"BackupHelper.ipynb\",\n",
    "                                output,\n",
    "                                {\"PASS\": PASS,\n",
    "                                 \"DIR\": dir,\n",
    "                                 \"DEBUG\": False,\n",
    "                                 \"FULL\": isFull,\n",
    "                                 \"GEN\": generate,\n",
    "                                 \"progress_bar\": True,\n",
    "                                 \"log_output\": True,\n",
    "                                 \"report_mode\": True,\n",
    "                                }\n",
    "                               )\n",
    "        except pm.PapermillExecutionError:\n",
    "            print(\"failed to run %s\" %(dir))\n",
    "            if DEBUG:\n",
    "                print(uuid_str, '=>', output)\n",
    "            sys.exit(1)\n",
    "        print('%s is done' % (dir))\n",
    "\n",
    "        sync_mobile(dir)\n",
    "\n",
    "\n",
    "def restore(dir_dict):\n",
    "    '''\n",
    "        DESCRIPTION: restores the dir_lists and upload to docker\n",
    "               assuming all directories are made to be public\n",
    "        PARAM: dir_dict is dictionary of directory name with tags\n",
    "               under Desktop\n",
    "               gs://.../.. can be used instead if upload output to\n",
    "               s3\n",
    "    '''\n",
    "    for dir, tag in dir_dict.items():\n",
    "        uuid_str=str(uuid.uuid1())[0:7]\n",
    "        output=\"output_%s_run_restore_%s.ipynb\" % (timestamp, uuid_str)\n",
    "        try:\n",
    "            pm.execute_notebook(\"RestoreBackup.ipynb\",\n",
    "                                output,\n",
    "                                {\"PASS\": PASS, \n",
    "                                 \"DIR\": dir,\n",
    "                                 \"TAG\": tag,\n",
    "                                 \"DEBUG\": True}\n",
    "                               )\n",
    "        except pm.PapermillExecutionError:\n",
    "            print(\"failed to run %s\" %(dir))\n",
    "            if DEBUG:\n",
    "                print(uuid_str, '=>', output)\n",
    "            sys.exit(1)\n",
    "        except:\n",
    "            print(\"unknown error\")\n",
    "            sys.exit(1)\n",
    "\n",
    "\n",
    "def cleanup():\n",
    "    '''\n",
    "        DESCRIPTION: cleanup pyc, .DS_Store, __pycache__ files and\n",
    "               prune all images unused\n",
    "        PARAM: None   \n",
    "    '''\n",
    "    status = os.system('''\n",
    "                find . -iname \\*pyc -exec rm {} \\;\n",
    "                find . -iname .DS_Store -exec rm {} \\;\n",
    "                find . -iname __pycache__ -exec rmdir {} \\;\n",
    "                docker system prune -af;\n",
    "                ''')\n",
    "    assert status == 0, \"failed\"\n",
    "\n",
    "\n",
    "def backup_incre(dir_list):\n",
    "    '''\n",
    "        DESCRIPTION: use docker-compose to do incremental and faster\n",
    "                backup.  Must have INCR_EXPERIMENTAL as True to \n",
    "                speedup. Uses latest tag to speed up\n",
    "        PARAM: None\n",
    "        RETURN: if success returns 0, otherwise non-zero\n",
    "    '''\n",
    "    try:\n",
    "        backup(dir_list, isFull=False, generate=True)\n",
    "    except:\n",
    "        return -1\n",
    "    return 0\n",
    "\n",
    "\n",
    "def widget_run_default_backup(pos):\n",
    "    '''\n",
    "        DESCRIPTION: use button to trigger backup from the blist selected\n",
    "        PARAM: None      \n",
    "    '''\n",
    "\n",
    "    selected = blist.trait_values()['value']\n",
    "    if DEBUG:\n",
    "        print(selected)\n",
    "    pos.set_trait('button_style', 'info')\n",
    "    pos.set_trait('description', 'In progress...') \n",
    "    \n",
    "    if backup_incre(selected) == 0:\n",
    "        pos.set_trait('button_style', 'success')\n",
    "        pos.set_trait('description', 'Done')\n",
    "    else:\n",
    "        pos.set_trait('button_style', 'danger')\n",
    "        pos.set_trait('description', 'Failed')\n"
   ]
  },
  {
   "cell_type": "code",
   "execution_count": 199,
   "metadata": {},
   "outputs": [
    {
     "data": {
      "application/vnd.jupyter.widget-view+json": {
       "model_id": "3b89ed2db35740879a1f165fa4365f60",
       "version_major": 2,
       "version_minor": 0
      },
      "text/plain": [
       "HBox(children=(HTML(value='Executing'), FloatProgress(value=0.0, max=10.0), HTML(value='')))"
      ]
     },
     "metadata": {},
     "output_type": "display_data"
    },
    {
     "name": "stderr",
     "output_type": "stream",
     "text": [
      "ERROR:root:Internal Python error in the inspect module.\n",
      "Below is the traceback from this internal error.\n",
      "\n"
     ]
    },
    {
     "name": "stdout",
     "output_type": "stream",
     "text": [
      "\n",
      "failed to run Tests\n",
      "bbd507d => output_20210104001609747200b_run_backup_bbd507d.ipynb\n",
      "Traceback (most recent call last):\n",
      "  File \"<ipython-input-195-2b163a622ece>\", line 51, in backup\n",
      "    pm.execute_notebook(\"BackupHelper.ipynb\",\n",
      "  File \"/usr/local/lib/python3.8/site-packages/papermill/execute.py\", line 118, in execute_notebook\n",
      "    raise_for_execution_errors(nb, output_path)\n",
      "  File \"/usr/local/lib/python3.8/site-packages/papermill/execute.py\", line 230, in raise_for_execution_errors\n",
      "    raise error\n",
      "papermill.exceptions.PapermillExecutionError: \n",
      "---------------------------------------------------------------------------\n",
      "Exception encountered at \"In [5]\":\n",
      "---------------------------------------------------------------------------\n",
      "HTTPError                                 Traceback (most recent call last)\n",
      "/usr/local/lib/python3.8/site-packages/docker/api/client.py in _raise_for_status(self, response)\n",
      "    267         try:\n",
      "--> 268             response.raise_for_status()\n",
      "    269         except requests.exceptions.HTTPError as e:\n",
      "\n",
      "/usr/local/lib/python3.8/site-packages/requests/models.py in raise_for_status(self)\n",
      "    940         if http_error_msg:\n",
      "--> 941             raise HTTPError(http_error_msg, response=self)\n",
      "    942 \n",
      "\n",
      "HTTPError: 401 Client Error: Unauthorized for url: https://192.168.99.100:2376/v1.40/auth\n",
      "\n",
      "During handling of the above exception, another exception occurred:\n",
      "\n",
      "APIError                                  Traceback (most recent call last)\n",
      "<timed eval> in <module>\n",
      "\n",
      "/usr/local/lib/python3.8/site-packages/docker/client.py in login(self, *args, **kwargs)\n",
      "    197 \n",
      "    198     def login(self, *args, **kwargs):\n",
      "--> 199         return self.api.login(*args, **kwargs)\n",
      "    200     login.__doc__ = APIClient.login.__doc__\n",
      "    201 \n",
      "\n",
      "/usr/local/lib/python3.8/site-packages/docker/api/daemon.py in login(self, username, password, email, registry, reauth, dockercfg_path)\n",
      "    150         if response.status_code == 200:\n",
      "    151             self._auth_configs.add_auth(registry or auth.INDEX_NAME, req_data)\n",
      "--> 152         return self._result(response, json=True)\n",
      "    153 \n",
      "    154     def ping(self):\n",
      "\n",
      "/usr/local/lib/python3.8/site-packages/docker/api/client.py in _result(self, response, json, binary)\n",
      "    272     def _result(self, response, json=False, binary=False):\n",
      "    273         assert not (json and binary)\n",
      "--> 274         self._raise_for_status(response)\n",
      "    275 \n",
      "    276         if json:\n",
      "\n",
      "/usr/local/lib/python3.8/site-packages/docker/api/client.py in _raise_for_status(self, response)\n",
      "    268             response.raise_for_status()\n",
      "    269         except requests.exceptions.HTTPError as e:\n",
      "--> 270             raise create_api_error_from_http_exception(e)\n",
      "    271 \n",
      "    272     def _result(self, response, json=False, binary=False):\n",
      "\n",
      "/usr/local/lib/python3.8/site-packages/docker/errors.py in create_api_error_from_http_exception(e)\n",
      "     29         else:\n",
      "     30             cls = NotFound\n",
      "---> 31     raise cls(e, response=response, explanation=explanation)\n",
      "     32 \n",
      "     33 \n",
      "\n",
      "APIError: 401 Client Error for https://192.168.99.100:2376/v1.40/auth: Unauthorized (\"Get https://registry-1.docker.io/v2/: unauthorized: incorrect username or password\")\n",
      "\n",
      "\n",
      "During handling of the above exception, another exception occurred:\n",
      "\n",
      "Traceback (most recent call last):\n",
      "  File \"/usr/local/lib/python3.8/site-packages/IPython/core/interactiveshell.py\", line 3417, in run_code\n",
      "    exec(code_obj, self.user_global_ns, self.user_ns)\n",
      "  File \"<ipython-input-199-f5ab6af75970>\", line 3, in <module>\n",
      "    backup([\"Tests\"])\n",
      "  File \"<ipython-input-195-2b163a622ece>\", line 67, in backup\n",
      "    sys.exit(1)\n",
      "SystemExit: 1\n",
      "\n",
      "During handling of the above exception, another exception occurred:\n",
      "\n",
      "Traceback (most recent call last):\n",
      "  File \"/usr/local/lib/python3.8/site-packages/IPython/core/ultratb.py\", line 1169, in get_records\n",
      "    return _fixed_getinnerframes(etb, number_of_lines_of_context, tb_offset)\n",
      "  File \"/usr/local/lib/python3.8/site-packages/IPython/core/ultratb.py\", line 316, in wrapped\n",
      "    return f(*args, **kwargs)\n",
      "  File \"/usr/local/lib/python3.8/site-packages/IPython/core/ultratb.py\", line 350, in _fixed_getinnerframes\n",
      "    records = fix_frame_records_filenames(inspect.getinnerframes(etb, context))\n",
      "  File \"/usr/local/Cellar/python@3.8/3.8.6/Frameworks/Python.framework/Versions/3.8/lib/python3.8/inspect.py\", line 1503, in getinnerframes\n",
      "    frameinfo = (tb.tb_frame,) + getframeinfo(tb, context)\n",
      "AttributeError: 'tuple' object has no attribute 'tb_frame'\n"
     ]
    },
    {
     "ename": "TypeError",
     "evalue": "object of type 'NoneType' has no len()",
     "output_type": "error",
     "traceback": [
      "\u001b[0;31m---------------------------------------------------------------------------\u001b[0m",
      "\u001b[0;31mPapermillExecutionError\u001b[0m                   Traceback (most recent call last)",
      "\u001b[0;32m<ipython-input-195-2b163a622ece>\u001b[0m in \u001b[0;36mbackup\u001b[0;34m(dir_list, isFull, generate)\u001b[0m\n\u001b[1;32m     50\u001b[0m         \u001b[0;32mtry\u001b[0m\u001b[0;34m:\u001b[0m\u001b[0;34m\u001b[0m\u001b[0;34m\u001b[0m\u001b[0m\n\u001b[0;32m---> 51\u001b[0;31m             pm.execute_notebook(\"BackupHelper.ipynb\",\n\u001b[0m\u001b[1;32m     52\u001b[0m                                 \u001b[0moutput\u001b[0m\u001b[0;34m,\u001b[0m\u001b[0;34m\u001b[0m\u001b[0;34m\u001b[0m\u001b[0m\n",
      "\u001b[0;32m/usr/local/lib/python3.8/site-packages/papermill/execute.py\u001b[0m in \u001b[0;36mexecute_notebook\u001b[0;34m(input_path, output_path, parameters, engine_name, request_save_on_cell_execute, prepare_only, kernel_name, progress_bar, log_output, stdout_file, stderr_file, start_timeout, report_mode, cwd, **engine_kwargs)\u001b[0m\n\u001b[1;32m    117\u001b[0m             \u001b[0;31m# Check for errors first (it saves on error before raising)\u001b[0m\u001b[0;34m\u001b[0m\u001b[0;34m\u001b[0m\u001b[0;34m\u001b[0m\u001b[0m\n\u001b[0;32m--> 118\u001b[0;31m             \u001b[0mraise_for_execution_errors\u001b[0m\u001b[0;34m(\u001b[0m\u001b[0mnb\u001b[0m\u001b[0;34m,\u001b[0m \u001b[0moutput_path\u001b[0m\u001b[0;34m)\u001b[0m\u001b[0;34m\u001b[0m\u001b[0;34m\u001b[0m\u001b[0m\n\u001b[0m\u001b[1;32m    119\u001b[0m \u001b[0;34m\u001b[0m\u001b[0m\n",
      "\u001b[0;32m/usr/local/lib/python3.8/site-packages/papermill/execute.py\u001b[0m in \u001b[0;36mraise_for_execution_errors\u001b[0;34m(nb, output_path)\u001b[0m\n\u001b[1;32m    229\u001b[0m         \u001b[0mwrite_ipynb\u001b[0m\u001b[0;34m(\u001b[0m\u001b[0mnb\u001b[0m\u001b[0;34m,\u001b[0m \u001b[0moutput_path\u001b[0m\u001b[0;34m)\u001b[0m\u001b[0;34m\u001b[0m\u001b[0;34m\u001b[0m\u001b[0m\n\u001b[0;32m--> 230\u001b[0;31m         \u001b[0;32mraise\u001b[0m \u001b[0merror\u001b[0m\u001b[0;34m\u001b[0m\u001b[0;34m\u001b[0m\u001b[0m\n\u001b[0m",
      "\u001b[0;31mPapermillExecutionError\u001b[0m: \n---------------------------------------------------------------------------\nException encountered at \"In [5]\":\n---------------------------------------------------------------------------\nHTTPError                                 Traceback (most recent call last)\n/usr/local/lib/python3.8/site-packages/docker/api/client.py in _raise_for_status(self, response)\n    267         try:\n--> 268             response.raise_for_status()\n    269         except requests.exceptions.HTTPError as e:\n\n/usr/local/lib/python3.8/site-packages/requests/models.py in raise_for_status(self)\n    940         if http_error_msg:\n--> 941             raise HTTPError(http_error_msg, response=self)\n    942 \n\nHTTPError: 401 Client Error: Unauthorized for url: https://192.168.99.100:2376/v1.40/auth\n\nDuring handling of the above exception, another exception occurred:\n\nAPIError                                  Traceback (most recent call last)\n<timed eval> in <module>\n\n/usr/local/lib/python3.8/site-packages/docker/client.py in login(self, *args, **kwargs)\n    197 \n    198     def login(self, *args, **kwargs):\n--> 199         return self.api.login(*args, **kwargs)\n    200     login.__doc__ = APIClient.login.__doc__\n    201 \n\n/usr/local/lib/python3.8/site-packages/docker/api/daemon.py in login(self, username, password, email, registry, reauth, dockercfg_path)\n    150         if response.status_code == 200:\n    151             self._auth_configs.add_auth(registry or auth.INDEX_NAME, req_data)\n--> 152         return self._result(response, json=True)\n    153 \n    154     def ping(self):\n\n/usr/local/lib/python3.8/site-packages/docker/api/client.py in _result(self, response, json, binary)\n    272     def _result(self, response, json=False, binary=False):\n    273         assert not (json and binary)\n--> 274         self._raise_for_status(response)\n    275 \n    276         if json:\n\n/usr/local/lib/python3.8/site-packages/docker/api/client.py in _raise_for_status(self, response)\n    268             response.raise_for_status()\n    269         except requests.exceptions.HTTPError as e:\n--> 270             raise create_api_error_from_http_exception(e)\n    271 \n    272     def _result(self, response, json=False, binary=False):\n\n/usr/local/lib/python3.8/site-packages/docker/errors.py in create_api_error_from_http_exception(e)\n     29         else:\n     30             cls = NotFound\n---> 31     raise cls(e, response=response, explanation=explanation)\n     32 \n     33 \n\nAPIError: 401 Client Error for https://192.168.99.100:2376/v1.40/auth: Unauthorized (\"Get https://registry-1.docker.io/v2/: unauthorized: incorrect username or password\")\n",
      "\nDuring handling of the above exception, another exception occurred:\n",
      "\u001b[0;31mSystemExit\u001b[0m                                Traceback (most recent call last)",
      "    \u001b[0;31m[... skipping hidden 1 frame]\u001b[0m\n",
      "\u001b[0;32m<ipython-input-199-f5ab6af75970>\u001b[0m in \u001b[0;36m<module>\u001b[0;34m\u001b[0m\n\u001b[1;32m      2\u001b[0m     \u001b[0;32mimport\u001b[0m \u001b[0msys\u001b[0m\u001b[0;34m\u001b[0m\u001b[0;34m\u001b[0m\u001b[0m\n\u001b[0;32m----> 3\u001b[0;31m     \u001b[0mbackup\u001b[0m\u001b[0;34m(\u001b[0m\u001b[0;34m[\u001b[0m\u001b[0;34m\"Tests\"\u001b[0m\u001b[0;34m]\u001b[0m\u001b[0;34m)\u001b[0m\u001b[0;34m\u001b[0m\u001b[0;34m\u001b[0m\u001b[0m\n\u001b[0m",
      "\u001b[0;32m<ipython-input-195-2b163a622ece>\u001b[0m in \u001b[0;36mbackup\u001b[0;34m(dir_list, isFull, generate)\u001b[0m\n\u001b[1;32m     66\u001b[0m                 \u001b[0mprint\u001b[0m\u001b[0;34m(\u001b[0m\u001b[0muuid_str\u001b[0m\u001b[0;34m,\u001b[0m \u001b[0;34m'=>'\u001b[0m\u001b[0;34m,\u001b[0m \u001b[0moutput\u001b[0m\u001b[0;34m)\u001b[0m\u001b[0;34m\u001b[0m\u001b[0;34m\u001b[0m\u001b[0m\n\u001b[0;32m---> 67\u001b[0;31m             \u001b[0msys\u001b[0m\u001b[0;34m.\u001b[0m\u001b[0mexit\u001b[0m\u001b[0;34m(\u001b[0m\u001b[0;36m1\u001b[0m\u001b[0;34m)\u001b[0m\u001b[0;34m\u001b[0m\u001b[0;34m\u001b[0m\u001b[0m\n\u001b[0m\u001b[1;32m     68\u001b[0m         \u001b[0mprint\u001b[0m\u001b[0;34m(\u001b[0m\u001b[0;34m'%s is done'\u001b[0m \u001b[0;34m%\u001b[0m \u001b[0;34m(\u001b[0m\u001b[0mdir\u001b[0m\u001b[0;34m)\u001b[0m\u001b[0;34m)\u001b[0m\u001b[0;34m\u001b[0m\u001b[0;34m\u001b[0m\u001b[0m\n",
      "\u001b[0;31mSystemExit\u001b[0m: 1",
      "\nDuring handling of the above exception, another exception occurred:\n",
      "\u001b[0;31mTypeError\u001b[0m                                 Traceback (most recent call last)",
      "    \u001b[0;31m[... skipping hidden 1 frame]\u001b[0m\n",
      "\u001b[0;32m/usr/local/lib/python3.8/site-packages/IPython/core/interactiveshell.py\u001b[0m in \u001b[0;36mshowtraceback\u001b[0;34m(self, exc_tuple, filename, tb_offset, exception_only, running_compiled_code)\u001b[0m\n\u001b[1;32m   2035\u001b[0m                     stb = ['An exception has occurred, use %tb to see '\n\u001b[1;32m   2036\u001b[0m                            'the full traceback.\\n']\n\u001b[0;32m-> 2037\u001b[0;31m                     stb.extend(self.InteractiveTB.get_exception_only(etype,\n\u001b[0m\u001b[1;32m   2038\u001b[0m                                                                      value))\n\u001b[1;32m   2039\u001b[0m                 \u001b[0;32melse\u001b[0m\u001b[0;34m:\u001b[0m\u001b[0;34m\u001b[0m\u001b[0;34m\u001b[0m\u001b[0m\n",
      "\u001b[0;32m/usr/local/lib/python3.8/site-packages/IPython/core/ultratb.py\u001b[0m in \u001b[0;36mget_exception_only\u001b[0;34m(self, etype, value)\u001b[0m\n\u001b[1;32m    821\u001b[0m         \u001b[0mvalue\u001b[0m \u001b[0;34m:\u001b[0m \u001b[0mexception\u001b[0m \u001b[0mvalue\u001b[0m\u001b[0;34m\u001b[0m\u001b[0;34m\u001b[0m\u001b[0m\n\u001b[1;32m    822\u001b[0m         \"\"\"\n\u001b[0;32m--> 823\u001b[0;31m         \u001b[0;32mreturn\u001b[0m \u001b[0mListTB\u001b[0m\u001b[0;34m.\u001b[0m\u001b[0mstructured_traceback\u001b[0m\u001b[0;34m(\u001b[0m\u001b[0mself\u001b[0m\u001b[0;34m,\u001b[0m \u001b[0metype\u001b[0m\u001b[0;34m,\u001b[0m \u001b[0mvalue\u001b[0m\u001b[0;34m)\u001b[0m\u001b[0;34m\u001b[0m\u001b[0;34m\u001b[0m\u001b[0m\n\u001b[0m\u001b[1;32m    824\u001b[0m \u001b[0;34m\u001b[0m\u001b[0m\n\u001b[1;32m    825\u001b[0m     \u001b[0;32mdef\u001b[0m \u001b[0mshow_exception_only\u001b[0m\u001b[0;34m(\u001b[0m\u001b[0mself\u001b[0m\u001b[0;34m,\u001b[0m \u001b[0metype\u001b[0m\u001b[0;34m,\u001b[0m \u001b[0mevalue\u001b[0m\u001b[0;34m)\u001b[0m\u001b[0;34m:\u001b[0m\u001b[0;34m\u001b[0m\u001b[0;34m\u001b[0m\u001b[0m\n",
      "\u001b[0;32m/usr/local/lib/python3.8/site-packages/IPython/core/ultratb.py\u001b[0m in \u001b[0;36mstructured_traceback\u001b[0;34m(self, etype, evalue, etb, tb_offset, context)\u001b[0m\n\u001b[1;32m    696\u001b[0m             \u001b[0mchained_exceptions_tb_offset\u001b[0m \u001b[0;34m=\u001b[0m \u001b[0;36m0\u001b[0m\u001b[0;34m\u001b[0m\u001b[0;34m\u001b[0m\u001b[0m\n\u001b[1;32m    697\u001b[0m             out_list = (\n\u001b[0;32m--> 698\u001b[0;31m                 self.structured_traceback(\n\u001b[0m\u001b[1;32m    699\u001b[0m                     \u001b[0metype\u001b[0m\u001b[0;34m,\u001b[0m \u001b[0mevalue\u001b[0m\u001b[0;34m,\u001b[0m \u001b[0;34m(\u001b[0m\u001b[0metb\u001b[0m\u001b[0;34m,\u001b[0m \u001b[0mchained_exc_ids\u001b[0m\u001b[0;34m)\u001b[0m\u001b[0;34m,\u001b[0m\u001b[0;34m\u001b[0m\u001b[0;34m\u001b[0m\u001b[0m\n\u001b[1;32m    700\u001b[0m                     chained_exceptions_tb_offset, context)\n",
      "\u001b[0;32m/usr/local/lib/python3.8/site-packages/IPython/core/ultratb.py\u001b[0m in \u001b[0;36mstructured_traceback\u001b[0;34m(self, etype, value, tb, tb_offset, number_of_lines_of_context)\u001b[0m\n\u001b[1;32m   1433\u001b[0m         \u001b[0;32melse\u001b[0m\u001b[0;34m:\u001b[0m\u001b[0;34m\u001b[0m\u001b[0;34m\u001b[0m\u001b[0m\n\u001b[1;32m   1434\u001b[0m             \u001b[0mself\u001b[0m\u001b[0;34m.\u001b[0m\u001b[0mtb\u001b[0m \u001b[0;34m=\u001b[0m \u001b[0mtb\u001b[0m\u001b[0;34m\u001b[0m\u001b[0;34m\u001b[0m\u001b[0m\n\u001b[0;32m-> 1435\u001b[0;31m         return FormattedTB.structured_traceback(\n\u001b[0m\u001b[1;32m   1436\u001b[0m             self, etype, value, tb, tb_offset, number_of_lines_of_context)\n\u001b[1;32m   1437\u001b[0m \u001b[0;34m\u001b[0m\u001b[0m\n",
      "\u001b[0;32m/usr/local/lib/python3.8/site-packages/IPython/core/ultratb.py\u001b[0m in \u001b[0;36mstructured_traceback\u001b[0;34m(self, etype, value, tb, tb_offset, number_of_lines_of_context)\u001b[0m\n\u001b[1;32m   1333\u001b[0m         \u001b[0;32mif\u001b[0m \u001b[0mmode\u001b[0m \u001b[0;32min\u001b[0m \u001b[0mself\u001b[0m\u001b[0;34m.\u001b[0m\u001b[0mverbose_modes\u001b[0m\u001b[0;34m:\u001b[0m\u001b[0;34m\u001b[0m\u001b[0;34m\u001b[0m\u001b[0m\n\u001b[1;32m   1334\u001b[0m             \u001b[0;31m# Verbose modes need a full traceback\u001b[0m\u001b[0;34m\u001b[0m\u001b[0;34m\u001b[0m\u001b[0;34m\u001b[0m\u001b[0m\n\u001b[0;32m-> 1335\u001b[0;31m             return VerboseTB.structured_traceback(\n\u001b[0m\u001b[1;32m   1336\u001b[0m                 \u001b[0mself\u001b[0m\u001b[0;34m,\u001b[0m \u001b[0metype\u001b[0m\u001b[0;34m,\u001b[0m \u001b[0mvalue\u001b[0m\u001b[0;34m,\u001b[0m \u001b[0mtb\u001b[0m\u001b[0;34m,\u001b[0m \u001b[0mtb_offset\u001b[0m\u001b[0;34m,\u001b[0m \u001b[0mnumber_of_lines_of_context\u001b[0m\u001b[0;34m\u001b[0m\u001b[0;34m\u001b[0m\u001b[0m\n\u001b[1;32m   1337\u001b[0m             )\n",
      "\u001b[0;32m/usr/local/lib/python3.8/site-packages/IPython/core/ultratb.py\u001b[0m in \u001b[0;36mstructured_traceback\u001b[0;34m(self, etype, evalue, etb, tb_offset, number_of_lines_of_context)\u001b[0m\n\u001b[1;32m   1190\u001b[0m         \u001b[0;34m\"\"\"Return a nice text document describing the traceback.\"\"\"\u001b[0m\u001b[0;34m\u001b[0m\u001b[0;34m\u001b[0m\u001b[0m\n\u001b[1;32m   1191\u001b[0m \u001b[0;34m\u001b[0m\u001b[0m\n\u001b[0;32m-> 1192\u001b[0;31m         formatted_exception = self.format_exception_as_a_whole(etype, evalue, etb, number_of_lines_of_context,\n\u001b[0m\u001b[1;32m   1193\u001b[0m                                                                tb_offset)\n\u001b[1;32m   1194\u001b[0m \u001b[0;34m\u001b[0m\u001b[0m\n",
      "\u001b[0;32m/usr/local/lib/python3.8/site-packages/IPython/core/ultratb.py\u001b[0m in \u001b[0;36mformat_exception_as_a_whole\u001b[0;34m(self, etype, evalue, etb, number_of_lines_of_context, tb_offset)\u001b[0m\n\u001b[1;32m   1148\u001b[0m \u001b[0;34m\u001b[0m\u001b[0m\n\u001b[1;32m   1149\u001b[0m \u001b[0;34m\u001b[0m\u001b[0m\n\u001b[0;32m-> 1150\u001b[0;31m         \u001b[0mlast_unique\u001b[0m\u001b[0;34m,\u001b[0m \u001b[0mrecursion_repeat\u001b[0m \u001b[0;34m=\u001b[0m \u001b[0mfind_recursion\u001b[0m\u001b[0;34m(\u001b[0m\u001b[0morig_etype\u001b[0m\u001b[0;34m,\u001b[0m \u001b[0mevalue\u001b[0m\u001b[0;34m,\u001b[0m \u001b[0mrecords\u001b[0m\u001b[0;34m)\u001b[0m\u001b[0;34m\u001b[0m\u001b[0;34m\u001b[0m\u001b[0m\n\u001b[0m\u001b[1;32m   1151\u001b[0m \u001b[0;34m\u001b[0m\u001b[0m\n\u001b[1;32m   1152\u001b[0m         \u001b[0mframes\u001b[0m \u001b[0;34m=\u001b[0m \u001b[0mself\u001b[0m\u001b[0;34m.\u001b[0m\u001b[0mformat_records\u001b[0m\u001b[0;34m(\u001b[0m\u001b[0mrecords\u001b[0m\u001b[0;34m,\u001b[0m \u001b[0mlast_unique\u001b[0m\u001b[0;34m,\u001b[0m \u001b[0mrecursion_repeat\u001b[0m\u001b[0;34m)\u001b[0m\u001b[0;34m\u001b[0m\u001b[0;34m\u001b[0m\u001b[0m\n",
      "\u001b[0;32m/usr/local/lib/python3.8/site-packages/IPython/core/ultratb.py\u001b[0m in \u001b[0;36mfind_recursion\u001b[0;34m(etype, value, records)\u001b[0m\n\u001b[1;32m    449\u001b[0m     \u001b[0;31m# first frame (from in to out) that looks different.\u001b[0m\u001b[0;34m\u001b[0m\u001b[0;34m\u001b[0m\u001b[0;34m\u001b[0m\u001b[0m\n\u001b[1;32m    450\u001b[0m     \u001b[0;32mif\u001b[0m \u001b[0;32mnot\u001b[0m \u001b[0mis_recursion_error\u001b[0m\u001b[0;34m(\u001b[0m\u001b[0metype\u001b[0m\u001b[0;34m,\u001b[0m \u001b[0mvalue\u001b[0m\u001b[0;34m,\u001b[0m \u001b[0mrecords\u001b[0m\u001b[0;34m)\u001b[0m\u001b[0;34m:\u001b[0m\u001b[0;34m\u001b[0m\u001b[0;34m\u001b[0m\u001b[0m\n\u001b[0;32m--> 451\u001b[0;31m         \u001b[0;32mreturn\u001b[0m \u001b[0mlen\u001b[0m\u001b[0;34m(\u001b[0m\u001b[0mrecords\u001b[0m\u001b[0;34m)\u001b[0m\u001b[0;34m,\u001b[0m \u001b[0;36m0\u001b[0m\u001b[0;34m\u001b[0m\u001b[0;34m\u001b[0m\u001b[0m\n\u001b[0m\u001b[1;32m    452\u001b[0m \u001b[0;34m\u001b[0m\u001b[0m\n\u001b[1;32m    453\u001b[0m     \u001b[0;31m# Select filename, lineno, func_name to track frames with\u001b[0m\u001b[0;34m\u001b[0m\u001b[0;34m\u001b[0m\u001b[0;34m\u001b[0m\u001b[0m\n",
      "\u001b[0;31mTypeError\u001b[0m: object of type 'NoneType' has no len()"
     ]
    }
   ],
   "source": [
    "if DEBUG:\n",
    "    import sys\n",
    "    backup([\"Tests\"])"
   ]
  },
  {
   "cell_type": "code",
   "execution_count": 197,
   "metadata": {},
   "outputs": [
    {
     "name": "stdout",
     "output_type": "stream",
     "text": [
      "\u0000GITCRYPT\u0000}��S~Ƣ��4�\u00146t�p�\u0006t�,���-#Y*\u000b",
      "k�!�o�2�FHA*c��!K,$���^��&�\b�n`���\u0007�L"
     ]
    }
   ],
   "source": [
    "%gcrypt /Users/kenneyhe/Desktop/data-science lock --force\n",
    "!cat secrets.yaml"
   ]
  },
  {
   "cell_type": "code",
   "execution_count": 146,
   "metadata": {},
   "outputs": [
    {
     "name": "stdout",
     "output_type": "stream",
     "text": [
      "not encrypted: .ipynb_checkpoints/Api-checkpoint.ipynb\n",
      "not encrypted: .ipynb_checkpoints/BackupHelper-checkpoint.ipynb\n",
      "not encrypted: .gitattributes\n",
      "not encrypted: .gitignore\n",
      "not encrypted: .ipynb_checkpoints/Init-checkpoint.ipynb\n",
      "not encrypted: BackupHelper.ipynb\n",
      "not encrypted: Init.ipynb\n",
      "not encrypted: LICENSE\n",
      "not encrypted: README.md\n",
      "not encrypted: Tests/Dockerfile\n",
      "not encrypted: Tests/Widget%20List.ipynb\n",
      "not encrypted: api.py\n",
      "    encrypted: secrets.yaml\n"
     ]
    }
   ],
   "source": [
    "%gcrypt /Users/kenneyhe/Desktop/data-science status"
   ]
  },
  {
   "cell_type": "code",
   "execution_count": null,
   "metadata": {},
   "outputs": [],
   "source": []
  },
  {
   "cell_type": "code",
   "execution_count": null,
   "metadata": {},
   "outputs": [],
   "source": []
  }
 ],
 "metadata": {
  "celltoolbar": "Tags",
  "kernelspec": {
   "display_name": "Python 3",
   "language": "python",
   "name": "python3"
  },
  "language_info": {
   "codemirror_mode": {
    "name": "ipython",
    "version": 3
   },
   "file_extension": ".py",
   "mimetype": "text/x-python",
   "name": "python",
   "nbconvert_exporter": "python",
   "pygments_lexer": "ipython3",
   "version": "3.8.6"
  }
 },
 "nbformat": 4,
 "nbformat_minor": 4
}
